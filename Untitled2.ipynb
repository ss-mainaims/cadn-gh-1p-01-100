{
 "cells": [
  {
   "cell_type": "code",
   "execution_count": 1,
   "id": "905cdb42-a6b6-4a33-9c2d-63e7e228769d",
   "metadata": {},
   "outputs": [
    {
     "name": "stdout",
     "output_type": "stream",
     "text": [
      "Collecting ytmusicapi\n",
      "  Obtaining dependency information for ytmusicapi from https://files.pythonhosted.org/packages/28/87/03eed1e294adc6937aa36244dc4836a3829c7b67aa2e9b7fa400a382cf54/ytmusicapi-1.2.0-py3-none-any.whl.metadata\n",
      "  Downloading ytmusicapi-1.2.0-py3-none-any.whl.metadata (5.5 kB)\n",
      "Requirement already satisfied: requests>=2.22 in /home/codespace/.local/lib/python3.10/site-packages (from ytmusicapi) (2.31.0)\n",
      "Requirement already satisfied: charset-normalizer<4,>=2 in /home/codespace/.local/lib/python3.10/site-packages (from requests>=2.22->ytmusicapi) (3.2.0)\n",
      "Requirement already satisfied: idna<4,>=2.5 in /home/codespace/.local/lib/python3.10/site-packages (from requests>=2.22->ytmusicapi) (3.4)\n",
      "Requirement already satisfied: urllib3<3,>=1.21.1 in /home/codespace/.local/lib/python3.10/site-packages (from requests>=2.22->ytmusicapi) (2.0.4)\n",
      "Requirement already satisfied: certifi>=2017.4.17 in /home/codespace/.local/lib/python3.10/site-packages (from requests>=2.22->ytmusicapi) (2023.7.22)\n",
      "Downloading ytmusicapi-1.2.0-py3-none-any.whl (69 kB)\n",
      "\u001b[2K   \u001b[38;2;114;156;31m━━━━━━━━━━━━━━━━━━━━━━━━━━━━━━━━━━━━━━━━\u001b[0m \u001b[32m69.3/69.3 kB\u001b[0m \u001b[31m831.0 kB/s\u001b[0m eta \u001b[36m0:00:00\u001b[0m kB/s\u001b[0m eta \u001b[36m0:00:01\u001b[0m1\u001b[0m\n",
      "\u001b[?25hInstalling collected packages: ytmusicapi\n",
      "Successfully installed ytmusicapi-1.2.0\n"
     ]
    }
   ],
   "source": [
    "!pip install ytmusicapi"
   ]
  },
  {
   "cell_type": "code",
   "execution_count": 2,
   "id": "ed0ea944-79b6-41d2-b404-9972ae72bbfc",
   "metadata": {},
   "outputs": [],
   "source": [
    "from ytmusicapi import YTMusic\n",
    "\n",
    "ytmusic = YTMusic()"
   ]
  },
  {
   "cell_type": "code",
   "execution_count": 3,
   "id": "a201874e-fd7f-4c25-9089-02cbfff2564c",
   "metadata": {},
   "outputs": [],
   "source": [
    "search_results = ytmusic.search(\"Taylor Swift\")"
   ]
  },
  {
   "cell_type": "code",
   "execution_count": null,
   "id": "5781ed49-9687-4d69-8e4e-4fb28e009a74",
   "metadata": {},
   "outputs": [],
   "source": []
  },
  {
   "cell_type": "code",
   "execution_count": 4,
   "id": "54653cd0-7068-4f20-969f-1ab04f7294e5",
   "metadata": {},
   "outputs": [
    {
     "data": {
      "text/plain": [
       "[{'category': 'Top result',\n",
       "  'resultType': 'artist',\n",
       "  'subscribers': '53.7M',\n",
       "  'artists': [{'name': 'Taylor Swift', 'id': 'UCPC0L1d253x-KuMNwa05TpA'}],\n",
       "  'thumbnails': [{'url': 'https://lh3.googleusercontent.com/U1cI80giSCUuNYx3zkRPt_AWytN1qFMlQoL5F7kTZeFzfIMmfHJYLJchX3BxeDLglE9MeVYp4OlN5Xc=w60-h60-p-l90-rj',\n",
       "    'width': 60,\n",
       "    'height': 60},\n",
       "   {'url': 'https://lh3.googleusercontent.com/U1cI80giSCUuNYx3zkRPt_AWytN1qFMlQoL5F7kTZeFzfIMmfHJYLJchX3BxeDLglE9MeVYp4OlN5Xc=w120-h120-p-l90-rj',\n",
       "    'width': 120,\n",
       "    'height': 120}]},\n",
       " {'category': None,\n",
       "  'resultType': 'song',\n",
       "  'title': 'You Belong With Me (Taylor’s Version)',\n",
       "  'album': {'name': \"Fearless (Taylor's Version)\", 'id': 'MPREb_W8Sz9ZLayFV'},\n",
       "  'feedbackTokens': {'add': None, 'remove': None},\n",
       "  'videoId': 'uD8d1KrDQcY',\n",
       "  'videoType': 'MUSIC_VIDEO_TYPE_ATV',\n",
       "  'duration': '3:52',\n",
       "  'year': None,\n",
       "  'artists': [{'name': 'Taylor Swift', 'id': 'UCPC0L1d253x-KuMNwa05TpA'}],\n",
       "  'duration_seconds': 232,\n",
       "  'isExplicit': False,\n",
       "  'thumbnails': [{'url': 'https://lh3.googleusercontent.com/huIYugJjpimikk-tSDJyDU09Jr8vDVJuLOh5uGG6T45c5MEtYvFW_9NlqkHHSaLl231kLBgAS8rtDfQ=w60-h60-l90-rj',\n",
       "    'width': 60,\n",
       "    'height': 60},\n",
       "   {'url': 'https://lh3.googleusercontent.com/huIYugJjpimikk-tSDJyDU09Jr8vDVJuLOh5uGG6T45c5MEtYvFW_9NlqkHHSaLl231kLBgAS8rtDfQ=w120-h120-l90-rj',\n",
       "    'width': 120,\n",
       "    'height': 120}]},\n",
       " {'category': None,\n",
       "  'resultType': 'song',\n",
       "  'title': 'Foolish One (Taylor’s Version) (From The Vault)',\n",
       "  'album': {'name': \"Speak Now (Taylor's Version)\", 'id': 'MPREb_7u82vYqpamW'},\n",
       "  'feedbackTokens': {'add': None, 'remove': None},\n",
       "  'videoId': 'OwHE_MjV5E4',\n",
       "  'videoType': 'MUSIC_VIDEO_TYPE_ATV',\n",
       "  'duration': '5:12',\n",
       "  'year': None,\n",
       "  'artists': [{'name': 'Taylor Swift', 'id': 'UCPC0L1d253x-KuMNwa05TpA'}],\n",
       "  'duration_seconds': 312,\n",
       "  'isExplicit': False,\n",
       "  'thumbnails': [{'url': 'https://lh3.googleusercontent.com/PzdFvhZwBo2kxfifFF82vShEUh8xEQfvoUTRIUBvZjs3ibCmTqMQZ6ZL03tPz1iwjP4UH6xB0CAGPwqj=w60-h60-l90-rj',\n",
       "    'width': 60,\n",
       "    'height': 60},\n",
       "   {'url': 'https://lh3.googleusercontent.com/PzdFvhZwBo2kxfifFF82vShEUh8xEQfvoUTRIUBvZjs3ibCmTqMQZ6ZL03tPz1iwjP4UH6xB0CAGPwqj=w120-h120-l90-rj',\n",
       "    'width': 120,\n",
       "    'height': 120}]},\n",
       " {'category': None,\n",
       "  'resultType': 'album',\n",
       "  'title': \"Speak Now (Taylor's Version)\",\n",
       "  'type': 'Album',\n",
       "  'duration': None,\n",
       "  'year': '2023',\n",
       "  'artists': [{'name': 'Taylor Swift', 'id': 'UCPC0L1d253x-KuMNwa05TpA'}],\n",
       "  'browseId': 'MPREb_7u82vYqpamW',\n",
       "  'isExplicit': False,\n",
       "  'thumbnails': [{'url': 'https://lh3.googleusercontent.com/PzdFvhZwBo2kxfifFF82vShEUh8xEQfvoUTRIUBvZjs3ibCmTqMQZ6ZL03tPz1iwjP4UH6xB0CAGPwqj=w60-h60-l90-rj',\n",
       "    'width': 60,\n",
       "    'height': 60},\n",
       "   {'url': 'https://lh3.googleusercontent.com/PzdFvhZwBo2kxfifFF82vShEUh8xEQfvoUTRIUBvZjs3ibCmTqMQZ6ZL03tPz1iwjP4UH6xB0CAGPwqj=w120-h120-l90-rj',\n",
       "    'width': 120,\n",
       "    'height': 120},\n",
       "   {'url': 'https://lh3.googleusercontent.com/PzdFvhZwBo2kxfifFF82vShEUh8xEQfvoUTRIUBvZjs3ibCmTqMQZ6ZL03tPz1iwjP4UH6xB0CAGPwqj=w226-h226-l90-rj',\n",
       "    'width': 226,\n",
       "    'height': 226},\n",
       "   {'url': 'https://lh3.googleusercontent.com/PzdFvhZwBo2kxfifFF82vShEUh8xEQfvoUTRIUBvZjs3ibCmTqMQZ6ZL03tPz1iwjP4UH6xB0CAGPwqj=w544-h544-l90-rj',\n",
       "    'width': 544,\n",
       "    'height': 544}]},\n",
       " {'category': 'Songs',\n",
       "  'resultType': 'song',\n",
       "  'title': 'All Of The Girls You Loved Before',\n",
       "  'album': {'name': 'All Of The Girls You Loved Before',\n",
       "   'id': 'MPREb_UGeXP8tVTb5'},\n",
       "  'feedbackTokens': {'add': None, 'remove': None},\n",
       "  'videoId': 'HO-31CVnLes',\n",
       "  'videoType': 'MUSIC_VIDEO_TYPE_ATV',\n",
       "  'duration': '3:42',\n",
       "  'year': None,\n",
       "  'artists': [{'name': 'Taylor Swift', 'id': 'UCPC0L1d253x-KuMNwa05TpA'}],\n",
       "  'duration_seconds': 222,\n",
       "  'isExplicit': False,\n",
       "  'thumbnails': [{'url': 'https://lh3.googleusercontent.com/Dbm6JTTRFJbiMNjrqRTIDircS8Jaj8MrJhOHb_d2a-rH6YuuOUwlxXh6vzQ4aKe0mHHZCAXVML-PcBLo=w60-h60-l90-rj',\n",
       "    'width': 60,\n",
       "    'height': 60},\n",
       "   {'url': 'https://lh3.googleusercontent.com/Dbm6JTTRFJbiMNjrqRTIDircS8Jaj8MrJhOHb_d2a-rH6YuuOUwlxXh6vzQ4aKe0mHHZCAXVML-PcBLo=w120-h120-l90-rj',\n",
       "    'width': 120,\n",
       "    'height': 120}]},\n",
       " {'category': 'Songs',\n",
       "  'resultType': 'song',\n",
       "  'title': 'When Emma Falls in Love (Taylor’s Version) (From The Vault)',\n",
       "  'album': {'name': \"Speak Now (Taylor's Version)\", 'id': 'MPREb_7u82vYqpamW'},\n",
       "  'feedbackTokens': {'add': None, 'remove': None},\n",
       "  'videoId': '3d5Zd0B2egQ',\n",
       "  'videoType': 'MUSIC_VIDEO_TYPE_ATV',\n",
       "  'duration': '4:13',\n",
       "  'year': None,\n",
       "  'artists': [{'name': 'Taylor Swift', 'id': 'UCPC0L1d253x-KuMNwa05TpA'}],\n",
       "  'duration_seconds': 253,\n",
       "  'isExplicit': False,\n",
       "  'thumbnails': [{'url': 'https://lh3.googleusercontent.com/PzdFvhZwBo2kxfifFF82vShEUh8xEQfvoUTRIUBvZjs3ibCmTqMQZ6ZL03tPz1iwjP4UH6xB0CAGPwqj=w60-h60-l90-rj',\n",
       "    'width': 60,\n",
       "    'height': 60},\n",
       "   {'url': 'https://lh3.googleusercontent.com/PzdFvhZwBo2kxfifFF82vShEUh8xEQfvoUTRIUBvZjs3ibCmTqMQZ6ZL03tPz1iwjP4UH6xB0CAGPwqj=w120-h120-l90-rj',\n",
       "    'width': 120,\n",
       "    'height': 120}]},\n",
       " {'category': 'Songs',\n",
       "  'resultType': 'song',\n",
       "  'title': 'Getaway Car',\n",
       "  'album': {'name': 'reputation', 'id': 'MPREb_BdDqjcHkOwb'},\n",
       "  'feedbackTokens': {'add': None, 'remove': None},\n",
       "  'videoId': 'FhPLQVlUiNQ',\n",
       "  'videoType': 'MUSIC_VIDEO_TYPE_ATV',\n",
       "  'duration': '3:54',\n",
       "  'year': None,\n",
       "  'artists': [{'name': 'Taylor Swift', 'id': 'UCPC0L1d253x-KuMNwa05TpA'}],\n",
       "  'duration_seconds': 234,\n",
       "  'isExplicit': False,\n",
       "  'thumbnails': [{'url': 'https://lh3.googleusercontent.com/RuKPkn6LLmXNOUcyRqh0zQbMWTpZDhHnkxHEZHrv6J8AbxLwemm9F0xaPpHX51WB_Xlj00My9vpZ_zRh=w60-h60-l90-rj',\n",
       "    'width': 60,\n",
       "    'height': 60},\n",
       "   {'url': 'https://lh3.googleusercontent.com/RuKPkn6LLmXNOUcyRqh0zQbMWTpZDhHnkxHEZHrv6J8AbxLwemm9F0xaPpHX51WB_Xlj00My9vpZ_zRh=w120-h120-l90-rj',\n",
       "    'width': 120,\n",
       "    'height': 120}]},\n",
       " {'category': 'Albums',\n",
       "  'resultType': 'album',\n",
       "  'title': '1989',\n",
       "  'type': 'Album',\n",
       "  'duration': None,\n",
       "  'year': '2014',\n",
       "  'artists': [{'name': 'Taylor Swift', 'id': 'UCPC0L1d253x-KuMNwa05TpA'}],\n",
       "  'browseId': 'MPREb_K9GL6DCDUCq',\n",
       "  'isExplicit': False,\n",
       "  'thumbnails': [{'url': 'https://lh3.googleusercontent.com/-jaWr9K7U0bJoqMv50tihlvf1QXe_y-dmvw_z_40gA9bPj4PhfRPobOdQndQIoCxsFDWRyEoP0Rben8=w60-h60-l90-rj',\n",
       "    'width': 60,\n",
       "    'height': 60},\n",
       "   {'url': 'https://lh3.googleusercontent.com/-jaWr9K7U0bJoqMv50tihlvf1QXe_y-dmvw_z_40gA9bPj4PhfRPobOdQndQIoCxsFDWRyEoP0Rben8=w120-h120-l90-rj',\n",
       "    'width': 120,\n",
       "    'height': 120},\n",
       "   {'url': 'https://lh3.googleusercontent.com/-jaWr9K7U0bJoqMv50tihlvf1QXe_y-dmvw_z_40gA9bPj4PhfRPobOdQndQIoCxsFDWRyEoP0Rben8=w226-h226-l90-rj',\n",
       "    'width': 226,\n",
       "    'height': 226},\n",
       "   {'url': 'https://lh3.googleusercontent.com/-jaWr9K7U0bJoqMv50tihlvf1QXe_y-dmvw_z_40gA9bPj4PhfRPobOdQndQIoCxsFDWRyEoP0Rben8=w544-h544-l90-rj',\n",
       "    'width': 544,\n",
       "    'height': 544}]},\n",
       " {'category': 'Albums',\n",
       "  'resultType': 'album',\n",
       "  'title': 'Midnights',\n",
       "  'type': 'Album',\n",
       "  'duration': None,\n",
       "  'year': '2022',\n",
       "  'artists': [{'name': 'Taylor Swift', 'id': 'UCPC0L1d253x-KuMNwa05TpA'}],\n",
       "  'browseId': 'MPREb_z0ABWl3jaT0',\n",
       "  'isExplicit': True,\n",
       "  'thumbnails': [{'url': 'https://lh3.googleusercontent.com/omCs21jqwK4Ss_VZxPFKwQP5z0UY0vi_8gXu4XNxHKDgE-GHYHWkIw80XR1uzFgdyhM3PvVUZeZ8iAfF=w60-h60-l90-rj',\n",
       "    'width': 60,\n",
       "    'height': 60},\n",
       "   {'url': 'https://lh3.googleusercontent.com/omCs21jqwK4Ss_VZxPFKwQP5z0UY0vi_8gXu4XNxHKDgE-GHYHWkIw80XR1uzFgdyhM3PvVUZeZ8iAfF=w120-h120-l90-rj',\n",
       "    'width': 120,\n",
       "    'height': 120},\n",
       "   {'url': 'https://lh3.googleusercontent.com/omCs21jqwK4Ss_VZxPFKwQP5z0UY0vi_8gXu4XNxHKDgE-GHYHWkIw80XR1uzFgdyhM3PvVUZeZ8iAfF=w226-h226-l90-rj',\n",
       "    'width': 226,\n",
       "    'height': 226},\n",
       "   {'url': 'https://lh3.googleusercontent.com/omCs21jqwK4Ss_VZxPFKwQP5z0UY0vi_8gXu4XNxHKDgE-GHYHWkIw80XR1uzFgdyhM3PvVUZeZ8iAfF=w544-h544-l90-rj',\n",
       "    'width': 544,\n",
       "    'height': 544}]},\n",
       " {'category': 'Albums',\n",
       "  'resultType': 'album',\n",
       "  'title': 'Lover',\n",
       "  'type': 'Album',\n",
       "  'duration': None,\n",
       "  'year': '2019',\n",
       "  'artists': [{'name': 'Taylor Swift', 'id': 'UCPC0L1d253x-KuMNwa05TpA'}],\n",
       "  'browseId': 'MPREb_6oiqzmwuS9F',\n",
       "  'isExplicit': False,\n",
       "  'thumbnails': [{'url': 'https://lh3.googleusercontent.com/OhxDTHQOQzSrcdgH9hzqzp1v22GYDE-QKnkryvCeq4ddx-3K3_c8oDXN0E6NvHlMn1q4XV59aHr0oL4f=w60-h60-l90-rj',\n",
       "    'width': 60,\n",
       "    'height': 60},\n",
       "   {'url': 'https://lh3.googleusercontent.com/OhxDTHQOQzSrcdgH9hzqzp1v22GYDE-QKnkryvCeq4ddx-3K3_c8oDXN0E6NvHlMn1q4XV59aHr0oL4f=w120-h120-l90-rj',\n",
       "    'width': 120,\n",
       "    'height': 120},\n",
       "   {'url': 'https://lh3.googleusercontent.com/OhxDTHQOQzSrcdgH9hzqzp1v22GYDE-QKnkryvCeq4ddx-3K3_c8oDXN0E6NvHlMn1q4XV59aHr0oL4f=w226-h226-l90-rj',\n",
       "    'width': 226,\n",
       "    'height': 226},\n",
       "   {'url': 'https://lh3.googleusercontent.com/OhxDTHQOQzSrcdgH9hzqzp1v22GYDE-QKnkryvCeq4ddx-3K3_c8oDXN0E6NvHlMn1q4XV59aHr0oL4f=w544-h544-l90-rj',\n",
       "    'width': 544,\n",
       "    'height': 544}]},\n",
       " {'category': 'Featured playlists',\n",
       "  'resultType': 'playlist',\n",
       "  'title': 'Presenting Taylor Swift',\n",
       "  'itemCount': '76',\n",
       "  'author': 'YouTube Music',\n",
       "  'browseId': 'VLRDCLAK5uy_k1272v-yXtLJm7gmMiAxjOl-vh5aEC11A',\n",
       "  'thumbnails': [{'url': 'https://lh3.googleusercontent.com/1Z1x27acd-hAcqXUfF8pTtYrlK6bzuW5LERhwJOGKZ-i3IsnR9UGBiIetLRagRE-PtTw9MlCNQ7kkM0=w60-h60-l90-rj',\n",
       "    'width': 60,\n",
       "    'height': 60},\n",
       "   {'url': 'https://lh3.googleusercontent.com/1Z1x27acd-hAcqXUfF8pTtYrlK6bzuW5LERhwJOGKZ-i3IsnR9UGBiIetLRagRE-PtTw9MlCNQ7kkM0=w120-h120-l90-rj',\n",
       "    'width': 120,\n",
       "    'height': 120},\n",
       "   {'url': 'https://lh3.googleusercontent.com/1Z1x27acd-hAcqXUfF8pTtYrlK6bzuW5LERhwJOGKZ-i3IsnR9UGBiIetLRagRE-PtTw9MlCNQ7kkM0=w226-h226-l90-rj',\n",
       "    'width': 226,\n",
       "    'height': 226},\n",
       "   {'url': 'https://lh3.googleusercontent.com/1Z1x27acd-hAcqXUfF8pTtYrlK6bzuW5LERhwJOGKZ-i3IsnR9UGBiIetLRagRE-PtTw9MlCNQ7kkM0=w544-h544-l90-rj',\n",
       "    'width': 544,\n",
       "    'height': 544}]},\n",
       " {'category': 'Featured playlists',\n",
       "  'resultType': 'playlist',\n",
       "  'title': \"Pop's Biggest Hits\",\n",
       "  'itemCount': '225',\n",
       "  'author': 'YouTube Music',\n",
       "  'browseId': 'VLRDCLAK5uy_nmS3YoxSwVVQk9lEQJ0UX4ZCjXsW_psU8',\n",
       "  'thumbnails': [{'url': 'https://lh3.googleusercontent.com/ih5QdpqpkVNRXtD-joBWj3jo1woxAXJFyAoA3hWYNWAKX0M9B825HH2VOh7aDX-unf67oyCyJGN9TljR=w60-h60-l90-rj',\n",
       "    'width': 60,\n",
       "    'height': 60},\n",
       "   {'url': 'https://lh3.googleusercontent.com/ih5QdpqpkVNRXtD-joBWj3jo1woxAXJFyAoA3hWYNWAKX0M9B825HH2VOh7aDX-unf67oyCyJGN9TljR=w120-h120-l90-rj',\n",
       "    'width': 120,\n",
       "    'height': 120},\n",
       "   {'url': 'https://lh3.googleusercontent.com/ih5QdpqpkVNRXtD-joBWj3jo1woxAXJFyAoA3hWYNWAKX0M9B825HH2VOh7aDX-unf67oyCyJGN9TljR=w226-h226-l90-rj',\n",
       "    'width': 226,\n",
       "    'height': 226},\n",
       "   {'url': 'https://lh3.googleusercontent.com/ih5QdpqpkVNRXtD-joBWj3jo1woxAXJFyAoA3hWYNWAKX0M9B825HH2VOh7aDX-unf67oyCyJGN9TljR=w544-h544-l90-rj',\n",
       "    'width': 544,\n",
       "    'height': 544}]},\n",
       " {'category': 'Featured playlists',\n",
       "  'resultType': 'playlist',\n",
       "  'title': 'Back to School Pop',\n",
       "  'itemCount': '47',\n",
       "  'author': 'YouTube Music',\n",
       "  'browseId': 'VLRDCLAK5uy_leoTLrB1K_2VcTWqds82dBcjBSjrRfJxw',\n",
       "  'thumbnails': [{'url': 'https://lh3.googleusercontent.com/Dn783MbAWzOgqEloN17Md1UP9zVlEHaW1j3LkXT9X8TxYSryeyh5c4-aJro8PBWXduDPoJbEnL4PXQ=w60-h60-l90-rj',\n",
       "    'width': 60,\n",
       "    'height': 60},\n",
       "   {'url': 'https://lh3.googleusercontent.com/Dn783MbAWzOgqEloN17Md1UP9zVlEHaW1j3LkXT9X8TxYSryeyh5c4-aJro8PBWXduDPoJbEnL4PXQ=w120-h120-l90-rj',\n",
       "    'width': 120,\n",
       "    'height': 120},\n",
       "   {'url': 'https://lh3.googleusercontent.com/Dn783MbAWzOgqEloN17Md1UP9zVlEHaW1j3LkXT9X8TxYSryeyh5c4-aJro8PBWXduDPoJbEnL4PXQ=w226-h226-l90-rj',\n",
       "    'width': 226,\n",
       "    'height': 226},\n",
       "   {'url': 'https://lh3.googleusercontent.com/Dn783MbAWzOgqEloN17Md1UP9zVlEHaW1j3LkXT9X8TxYSryeyh5c4-aJro8PBWXduDPoJbEnL4PXQ=w544-h544-l90-rj',\n",
       "    'width': 544,\n",
       "    'height': 544}]},\n",
       " {'category': 'Community playlists',\n",
       "  'resultType': 'playlist',\n",
       "  'title': 'Taylor Swift Karaoke | Sing King Karaoke',\n",
       "  'itemCount': '2M',\n",
       "  'author': 'Sing King',\n",
       "  'browseId': 'VLPL8D4Iby0Bmm-AFxvZbhUMzVCm6RiYjC2x',\n",
       "  'thumbnails': [{'url': 'https://yt3.googleusercontent.com/ki3xKP9-6C_HvWKDkKB_ggTKCN2xmUOj-mZ7zyxZ-UND1R-EZS752tgDO6cuqrhA_DxHI956jrpf=s192',\n",
       "    'width': 192,\n",
       "    'height': 192},\n",
       "   {'url': 'https://yt3.googleusercontent.com/ki3xKP9-6C_HvWKDkKB_ggTKCN2xmUOj-mZ7zyxZ-UND1R-EZS752tgDO6cuqrhA_DxHI956jrpf=s576',\n",
       "    'width': 576,\n",
       "    'height': 576},\n",
       "   {'url': 'https://yt3.googleusercontent.com/ki3xKP9-6C_HvWKDkKB_ggTKCN2xmUOj-mZ7zyxZ-UND1R-EZS752tgDO6cuqrhA_DxHI956jrpf=s1200',\n",
       "    'width': 1200,\n",
       "    'height': 1200}]},\n",
       " {'category': 'Community playlists',\n",
       "  'resultType': 'playlist',\n",
       "  'title': 'All Taylor Swift Songs',\n",
       "  'itemCount': '1.9M',\n",
       "  'author': 'Lindsey Wigand',\n",
       "  'browseId': 'VLPLYPKaAR-BTJADjgFpcT-9_ueUwQucwMT0',\n",
       "  'thumbnails': [{'url': 'https://yt3.googleusercontent.com/Zo__nSatNV-iGn1FOfS62WzdC1XhovG7hQCAZR6xD9CRnwqLtXXLGNMBHNag552Qj5FExVmc3A=s192',\n",
       "    'width': 192,\n",
       "    'height': 192},\n",
       "   {'url': 'https://yt3.googleusercontent.com/Zo__nSatNV-iGn1FOfS62WzdC1XhovG7hQCAZR6xD9CRnwqLtXXLGNMBHNag552Qj5FExVmc3A=s576',\n",
       "    'width': 576,\n",
       "    'height': 576},\n",
       "   {'url': 'https://yt3.googleusercontent.com/Zo__nSatNV-iGn1FOfS62WzdC1XhovG7hQCAZR6xD9CRnwqLtXXLGNMBHNag552Qj5FExVmc3A=s1200',\n",
       "    'width': 1200,\n",
       "    'height': 1200}]},\n",
       " {'category': 'Community playlists',\n",
       "  'resultType': 'playlist',\n",
       "  'title': 'All Taylor Swift Songs (July 2023 Updated Playlist)',\n",
       "  'itemCount': '2.4M',\n",
       "  'author': 'All Songs Playlists',\n",
       "  'browseId': 'VLPLc8BjX57_to8WP2WO6HlzL9R-TTX21oBM',\n",
       "  'thumbnails': [{'url': 'https://yt3.googleusercontent.com/pcue1hinWDcmVx1JRN7mqV6tk90KcrKvHApY1rFqEYHYuuVCXiMrWZxPDvhO4CMaitis022UW8Ip=s192',\n",
       "    'width': 192,\n",
       "    'height': 192},\n",
       "   {'url': 'https://yt3.googleusercontent.com/pcue1hinWDcmVx1JRN7mqV6tk90KcrKvHApY1rFqEYHYuuVCXiMrWZxPDvhO4CMaitis022UW8Ip=s576',\n",
       "    'width': 576,\n",
       "    'height': 576},\n",
       "   {'url': 'https://yt3.googleusercontent.com/pcue1hinWDcmVx1JRN7mqV6tk90KcrKvHApY1rFqEYHYuuVCXiMrWZxPDvhO4CMaitis022UW8Ip=s1200',\n",
       "    'width': 1200,\n",
       "    'height': 1200}]},\n",
       " {'category': 'Videos',\n",
       "  'resultType': 'video',\n",
       "  'title': 'Taylor Swift Greatest Hits Full Album 2023 🎸 Taylor Swift Best Songs Playlist 2023',\n",
       "  'videoId': '543xEgdpiQk',\n",
       "  'videoType': 'MUSIC_VIDEO_TYPE_UGC',\n",
       "  'duration': '4:00:35',\n",
       "  'year': None,\n",
       "  'artists': [{'name': ' Sky Music', 'id': 'UChS3qJE5SNYRX1CjcZjPLOg'}],\n",
       "  'views': '508K',\n",
       "  'duration_seconds': 14435,\n",
       "  'thumbnails': [{'url': 'https://i.ytimg.com/vi/543xEgdpiQk/sddefault.jpg?sqp=-oaymwEWCJADEOEBIAQqCghqEJQEGHgg6AJIWg&rs=AMzJL3m9yt_x6GBO7LkOQlwwAPBzSuNNqQ',\n",
       "    'width': 400,\n",
       "    'height': 225}]},\n",
       " {'category': 'Videos',\n",
       "  'resultType': 'video',\n",
       "  'title': 'T.a.y.l.o.r S.w.i.f.t Best Playlist- Top Songs 2023',\n",
       "  'videoId': 'jyB857YVhNQ',\n",
       "  'videoType': 'MUSIC_VIDEO_TYPE_UGC',\n",
       "  'duration': '1:10:43',\n",
       "  'year': None,\n",
       "  'artists': [{'name': 'T. Music', 'id': 'UCgfIkS5xWokLn3FQxDGYH2w'}],\n",
       "  'views': '2.8M',\n",
       "  'duration_seconds': 4243,\n",
       "  'thumbnails': [{'url': 'https://i.ytimg.com/vi/jyB857YVhNQ/sddefault.jpg?sqp=-oaymwEWCJADEOEBIAQqCghqEJQEGHgg6AJIWg&rs=AMzJL3mD1T4SdyKZ9DqmfwjFYbrVxckPAA',\n",
       "    'width': 400,\n",
       "    'height': 225}]},\n",
       " {'category': 'Videos',\n",
       "  'resultType': 'video',\n",
       "  'title': 'taylor swift speak now | 1.5 hours of calm piano ♪',\n",
       "  'videoId': 'Pxsme07Of7k',\n",
       "  'videoType': 'MUSIC_VIDEO_TYPE_UGC',\n",
       "  'duration': '1:32:48',\n",
       "  'year': None,\n",
       "  'artists': [{'name': 'Minnz Piano', 'id': 'UCcyPAxEjCKOKZ32om6GLnHA'}],\n",
       "  'views': '336K',\n",
       "  'duration_seconds': 5568,\n",
       "  'thumbnails': [{'url': 'https://i.ytimg.com/vi/Pxsme07Of7k/sddefault.jpg?sqp=-oaymwEWCJADEOEBIAQqCghqEJQEGHgg6AJIWg&rs=AMzJL3nsFdNqdTMvYIUxO3no9EC0FxQqRg',\n",
       "    'width': 400,\n",
       "    'height': 225}]},\n",
       " {'category': 'Artists',\n",
       "  'resultType': 'artist',\n",
       "  'artist': 'ZAYN',\n",
       "  'shuffleId': 'RDAOJDQu5fzlbcDS98visFCk6A',\n",
       "  'radioId': 'RDEMJDQu5fzlbcDS98visFCk6A',\n",
       "  'browseId': 'UCYR9erHSNBPjjNswR4FrMaw',\n",
       "  'thumbnails': [{'url': 'https://lh3.googleusercontent.com/x_OLwEjNh74QScfVbc3ejrbxjjG3WFe5CfVrO9KlIT_W2VvHpVC-orFzg-LF2kVYsBGK2YOA5JvUsVE=w60-h60-p-l90-rj',\n",
       "    'width': 60,\n",
       "    'height': 60},\n",
       "   {'url': 'https://lh3.googleusercontent.com/x_OLwEjNh74QScfVbc3ejrbxjjG3WFe5CfVrO9KlIT_W2VvHpVC-orFzg-LF2kVYsBGK2YOA5JvUsVE=w120-h120-p-l90-rj',\n",
       "    'width': 120,\n",
       "    'height': 120}]},\n",
       " {'category': 'Artists',\n",
       "  'resultType': 'artist',\n",
       "  'artist': 'Ed Sheeran',\n",
       "  'shuffleId': 'RDAO_Ktu-TilkxtLvmc9wX1MLQ',\n",
       "  'radioId': 'RDEM_Ktu-TilkxtLvmc9wX1MLQ',\n",
       "  'browseId': 'UClmXPfaYhXOYsNn_QUyheWQ',\n",
       "  'thumbnails': [{'url': 'https://lh3.googleusercontent.com/jQoBIAS6JjFGpcqQY1M_Mh3AasOvFENCdVRxkgax1a0K6qiq7AgE3MbJ6Jtt-Jndcarvoawmrg66KTny=w60-h60-p-l90-rj',\n",
       "    'width': 60,\n",
       "    'height': 60},\n",
       "   {'url': 'https://lh3.googleusercontent.com/jQoBIAS6JjFGpcqQY1M_Mh3AasOvFENCdVRxkgax1a0K6qiq7AgE3MbJ6Jtt-Jndcarvoawmrg66KTny=w120-h120-p-l90-rj',\n",
       "    'width': 120,\n",
       "    'height': 120}]},\n",
       " {'category': 'Artists',\n",
       "  'resultType': 'artist',\n",
       "  'artist': 'Kendrick Lamar',\n",
       "  'shuffleId': 'RDAOiH8aXmL0GBif6quidMdHew',\n",
       "  'radioId': 'RDEMiH8aXmL0GBif6quidMdHew',\n",
       "  'browseId': 'UCprAFmT0C6O4X0ToEXpeFTQ',\n",
       "  'thumbnails': [{'url': 'https://lh3.googleusercontent.com/hMjzHmIuTV0XPlvRSjl3wMR6NP-uF-fqF6kkandkFX-hEVp6d3tw-FQG9_smAq0tFwNBT6QLQR-Hkwge=w60-h60-p-l90-rj',\n",
       "    'width': 60,\n",
       "    'height': 60},\n",
       "   {'url': 'https://lh3.googleusercontent.com/hMjzHmIuTV0XPlvRSjl3wMR6NP-uF-fqF6kkandkFX-hEVp6d3tw-FQG9_smAq0tFwNBT6QLQR-Hkwge=w120-h120-p-l90-rj',\n",
       "    'width': 120,\n",
       "    'height': 120}]},\n",
       " {'category': 'Profiles',\n",
       "  'resultType': 'profile',\n",
       "  'title': 'Taylor Swift - Topic 𝅘𝅥𝅮',\n",
       "  'name': '@topictaylorswift',\n",
       "  'browseId': 'UCE87FHEh1SYBcJFUjCIh2ew',\n",
       "  'thumbnails': [{'url': 'https://yt3.googleusercontent.com/wmbNLbEGqdeJQObvDoss0TazTqMJVCTds6fo4HsZ-iKokoHJkdDd2868QtQOoj0fPP24Y2HO=w60-c-h60-k-c0x00ffffff-no-l90-rj',\n",
       "    'width': 60,\n",
       "    'height': 60},\n",
       "   {'url': 'https://yt3.googleusercontent.com/wmbNLbEGqdeJQObvDoss0TazTqMJVCTds6fo4HsZ-iKokoHJkdDd2868QtQOoj0fPP24Y2HO=w120-c-h120-k-c0x00ffffff-no-l90-rj',\n",
       "    'width': 120,\n",
       "    'height': 120}]},\n",
       " {'category': 'Profiles',\n",
       "  'resultType': 'profile',\n",
       "  'title': 'Taylor Swift songs',\n",
       "  'name': '@Taytam28',\n",
       "  'browseId': 'UC36XDcOv_tdf24_rnKtAclA',\n",
       "  'thumbnails': [{'url': 'https://yt3.googleusercontent.com/smq-2zLwY6Re9tF8aLkxIGA8OKCdloXkBeICeDNkrzwHjSgk02e20zkz1wghcM-jzhEEFEMxE7Q=w60-c-h60-k-c0x00ffffff-no-l90-rj',\n",
       "    'width': 60,\n",
       "    'height': 60},\n",
       "   {'url': 'https://yt3.googleusercontent.com/smq-2zLwY6Re9tF8aLkxIGA8OKCdloXkBeICeDNkrzwHjSgk02e20zkz1wghcM-jzhEEFEMxE7Q=w120-c-h120-k-c0x00ffffff-no-l90-rj',\n",
       "    'width': 120,\n",
       "    'height': 120}]},\n",
       " {'category': 'Profiles',\n",
       "  'resultType': 'profile',\n",
       "  'title': 'Taylor Swift Time',\n",
       "  'name': '@TaylorSwiftTime',\n",
       "  'browseId': 'UCSCRK7XlVQ6fBdEl00kX6pQ',\n",
       "  'thumbnails': [{'url': 'https://yt3.googleusercontent.com/WLnkucvCTczPoGQVMS_Dm6zGFIJQiwqMA4by_RAIQovtj2GoJL6ggXcL-0DrCia4e4CCEL2ncSc=w60-c-h60-k-c0x00ffffff-no-l90-rj',\n",
       "    'width': 60,\n",
       "    'height': 60},\n",
       "   {'url': 'https://yt3.googleusercontent.com/WLnkucvCTczPoGQVMS_Dm6zGFIJQiwqMA4by_RAIQovtj2GoJL6ggXcL-0DrCia4e4CCEL2ncSc=w120-c-h120-k-c0x00ffffff-no-l90-rj',\n",
       "    'width': 120,\n",
       "    'height': 120}]}]"
      ]
     },
     "execution_count": 4,
     "metadata": {},
     "output_type": "execute_result"
    }
   ],
   "source": [
    "len(search_results)UCPC0L1d253x-KuMNwa05TpA"
   ]
  },
  {
   "cell_type": "code",
   "execution_count": 5,
   "id": "c1085d9a-223d-4b9c-bfe1-11bd18953fdf",
   "metadata": {},
   "outputs": [
    {
     "name": "stdout",
     "output_type": "stream",
     "text": [
      "Collecting bs4\n",
      "  Downloading bs4-0.0.1.tar.gz (1.1 kB)\n",
      "  Preparing metadata (setup.py) ... \u001b[?25ldone\n",
      "\u001b[?25hRequirement already satisfied: beautifulsoup4 in /home/codespace/.local/lib/python3.10/site-packages (from bs4) (4.12.2)\n",
      "Requirement already satisfied: soupsieve>1.2 in /home/codespace/.local/lib/python3.10/site-packages (from beautifulsoup4->bs4) (2.4.1)\n",
      "Building wheels for collected packages: bs4\n",
      "  Building wheel for bs4 (setup.py) ... \u001b[?25ldone\n",
      "\u001b[?25h  Created wheel for bs4: filename=bs4-0.0.1-py3-none-any.whl size=1256 sha256=23ac0b0c08add75d4716842233089e1526ffc675bd4094b22f10332d06ac4aa9\n",
      "  Stored in directory: /home/codespace/.cache/pip/wheels/25/42/45/b773edc52acb16cd2db4cf1a0b47117e2f69bb4eb300ed0e70\n",
      "Successfully built bs4\n",
      "Installing collected packages: bs4\n",
      "Successfully installed bs4-0.0.1\n"
     ]
    }
   ],
   "source": [
    "!pip install bs4"
   ]
  },
  {
   "cell_type": "code",
   "execution_count": 21,
   "id": "f4cf3e76-a801-4a8c-aed8-cf8178b1062d",
   "metadata": {},
   "outputs": [],
   "source": [
    "def read_html_table(html_table):\n",
    "  \"\"\"Reads an HTML table and returns a tuple of the inner text of each tr element.\n",
    "\n",
    "  Args:\n",
    "    html_table: The HTML table as a string.\n",
    "\n",
    "  Returns:\n",
    "    A tuple of the inner text of each tr element, with each tr element separated\n",
    "    by a space.\n",
    "  \"\"\"\n",
    "\n",
    "  tr_elements = html_table.split(\"<tr>\")\n",
    "  tr_texts = []\n",
    "  for tr_element in tr_elements:\n",
    "    tr_texts.append(\" \".join(tr_element.split(\"<td>\")[1:-1]))\n",
    "  return tuple(tr_texts)\n"
   ]
  },
  {
   "cell_type": "code",
   "execution_count": 8,
   "id": "50c9b897-101d-4899-8dcb-d71793d9abcc",
   "metadata": {},
   "outputs": [],
   "source": [
    "with open('untitled.txt') as f:\n",
    "    text = f.read()\n"
   ]
  },
  {
   "cell_type": "code",
   "execution_count": 40,
   "id": "a55b810e-09ba-4a14-8287-17324bdbf5cf",
   "metadata": {},
   "outputs": [
    {
     "data": {
      "text/plain": [
       "'<table id=\"artistsext\" class=\"sortable\">\\n<colgroup><col class=\"col-pos\"><col class=\"col-artist\"><col class=\"col-smallnumber\"></colgroup>\\n<thead><tr><th>Pos</th><th class=\"mp text\">Artist</th><th>Points</th></tr></thead><tbody>\\n<tr><td>1</td><td class=\"mp text\"><div><a href=\"artist/taylorswift.html\">Taylor Swift</a></div></td><td><b>8645</b></td></tr>\\n<tr><td>2</td><td class=\"mp text\"><div><a href=\"artist/travisscott.html\">Travis Scott</a></div></td><td><b>3833</b></td></tr>\\n<tr><td>3</td><td class=\"mp text\"><div><a href=\"artist/theweeknd.html\">The Weeknd</a></div></td><td><b>3738</b></td></tr>\\n<tr><td>4</td><td class=\"mp text\"><div><a href=\"artist/karolg.html\">KAROL G</a></div></td><td><b>3674</b></td></tr>\\n<tr><td>5</td><td class=\"mp text\"><div><a href=\"artist/badbunny.html\">Bad Bunny</a></div></td><td><b>2791</b></td></tr>\\n<tr><td>6</td><td class=\"mp text\"><div><a href=\"artist/pesopluma.html\">Peso Pluma</a></div></td><td><b>2040</b></td></tr>\\n<tr><td>7</td><td class=\"mp text\"><div><a'"
      ]
     },
     "execution_count": 40,
     "metadata": {},
     "output_type": "execute_result"
    }
   ],
   "source": [
    "text[0:1000]"
   ]
  },
  {
   "cell_type": "code",
   "execution_count": 43,
   "id": "c408ab34-21f8-426c-bef2-5077b7e8f0f7",
   "metadata": {},
   "outputs": [
    {
     "data": {
      "text/plain": [
       "('',\n",
       " '',\n",
       " '1</td><td class=\"mp text\"><div><a href=\"artist/taylorswift.html\">Taylor Swift</a></div></td>',\n",
       " '2</td><td class=\"mp text\"><div><a href=\"artist/travisscott.html\">Travis Scott</a></div></td>',\n",
       " '3</td><td class=\"mp text\"><div><a href=\"artist/theweeknd.html\">The Weeknd</a></div></td>',\n",
       " '4</td><td class=\"mp text\"><div><a href=\"artist/karolg.html\">KAROL G</a></div></td>')"
      ]
     },
     "execution_count": 43,
     "metadata": {},
     "output_type": "execute_result"
    }
   ],
   "source": [
    "read_html_table('<table id=\"artistsext\" class=\"sortable\">\\n<colgroup><col class=\"col-pos\"><col class=\"col-artist\"><col class=\"col-smallnumber\"></colgroup>\\n<thead><tr><th>Pos</th><th class=\"mp text\">Artist</th><th>Points</th></tr></thead><tbody>\\n<tr><td>1</td><td class=\"mp text\"><div><a href=\"artist/taylorswift.html\">Taylor Swift</a></div></td><td><b>8645</b></td></tr>\\n<tr><td>2</td><td class=\"mp text\"><div><a href=\"artist/travisscott.html\">Travis Scott</a></div></td><td><b>3833</b></td></tr>\\n<tr><td>3</td><td class=\"mp text\"><div><a href=\"artist/theweeknd.html\">The Weeknd</a></div></td><td><b>3738</b></td></tr>\\n<tr><td>4</td><td class=\"mp text\"><div><a href=\"artist/karolg.html\">KAROL G</a></div></td><td>')"
   ]
  },
  {
   "cell_type": "code",
   "execution_count": 45,
   "id": "bcb1b9dd-7a71-4bbc-8358-122224b73bd8",
   "metadata": {},
   "outputs": [
    {
     "data": {
      "text/plain": [
       "'1<space><space><space><space>Taylor Swift<space><space><space>'"
      ]
     },
     "execution_count": 45,
     "metadata": {},
     "output_type": "execute_result"
    }
   ],
   "source": [
    "strip_tags('1</td><td class=\"mp text\"><div><a href=\"artist/taylorswift.html\">Taylor Swift</a></div></td>')"
   ]
  },
  {
   "cell_type": "code",
   "execution_count": 46,
   "id": "68db8f2d-fb21-48ca-bae4-2312d5ef18eb",
   "metadata": {},
   "outputs": [
    {
     "data": {
      "text/plain": [
       "['1', '', '', '', 'Taylor Swift', '', '', '']"
      ]
     },
     "execution_count": 46,
     "metadata": {},
     "output_type": "execute_result"
    }
   ],
   "source": [
    "'1<space><space><space><space>Taylor Swift<space><space><space>'.split('<space>')"
   ]
  },
  {
   "cell_type": "code",
   "execution_count": 38,
   "id": "cfced1de-d65a-4592-94c3-7b408cb7ac95",
   "metadata": {},
   "outputs": [],
   "source": [
    "import re\n",
    "\n",
    "def strip_tags(html_string):\n",
    "    # Regular expression pattern to match HTML tags\n",
    "    pattern = re.compile(r'<.*?>')\n",
    "    \n",
    "    # Remove HTML tags using the pattern\n",
    "    stripped_string = re.sub(pattern, '<space>', html_string)\n",
    "    \n",
    "    return stripped_string\n"
   ]
  },
  {
   "cell_type": "code",
   "execution_count": 22,
   "id": "6bc30923-762e-4c69-bee7-895c141b9518",
   "metadata": {},
   "outputs": [],
   "source": [
    "vals = read_html_table(text)"
   ]
  },
  {
   "cell_type": "code",
   "execution_count": 37,
   "id": "5edeeca3-de9f-4d85-9d39-a9fff443402b",
   "metadata": {},
   "outputs": [
    {
     "ename": "TypeError",
     "evalue": "expected string or bytes-like object",
     "output_type": "error",
     "traceback": [
      "\u001b[0;31m---------------------------------------------------------------------------\u001b[0m",
      "\u001b[0;31mTypeError\u001b[0m                                 Traceback (most recent call last)",
      "Cell \u001b[0;32mIn[37], line 1\u001b[0m\n\u001b[0;32m----> 1\u001b[0m vals \u001b[38;5;241m=\u001b[39m [strip_tags(i)\u001b[38;5;241m.\u001b[39msplit(\u001b[38;5;124m'\u001b[39m\u001b[38;5;124m<space>\u001b[39m\u001b[38;5;124m'\u001b[39m) \u001b[38;5;28;01mfor\u001b[39;00m i \u001b[38;5;129;01min\u001b[39;00m vals \u001b[38;5;28;01mif\u001b[39;00m i\u001b[38;5;241m!=\u001b[39m\u001b[38;5;124m'\u001b[39m\u001b[38;5;124m'\u001b[39m]\n",
      "Cell \u001b[0;32mIn[37], line 1\u001b[0m, in \u001b[0;36m<listcomp>\u001b[0;34m(.0)\u001b[0m\n\u001b[0;32m----> 1\u001b[0m vals \u001b[38;5;241m=\u001b[39m [\u001b[43mstrip_tags\u001b[49m\u001b[43m(\u001b[49m\u001b[43mi\u001b[49m\u001b[43m)\u001b[49m\u001b[38;5;241m.\u001b[39msplit(\u001b[38;5;124m'\u001b[39m\u001b[38;5;124m<space>\u001b[39m\u001b[38;5;124m'\u001b[39m) \u001b[38;5;28;01mfor\u001b[39;00m i \u001b[38;5;129;01min\u001b[39;00m vals \u001b[38;5;28;01mif\u001b[39;00m i\u001b[38;5;241m!=\u001b[39m\u001b[38;5;124m'\u001b[39m\u001b[38;5;124m'\u001b[39m]\n",
      "Cell \u001b[0;32mIn[36], line 8\u001b[0m, in \u001b[0;36mstrip_tags\u001b[0;34m(html_string)\u001b[0m\n\u001b[1;32m      5\u001b[0m pattern \u001b[38;5;241m=\u001b[39m re\u001b[38;5;241m.\u001b[39mcompile(\u001b[38;5;124mr\u001b[39m\u001b[38;5;124m'\u001b[39m\u001b[38;5;124m<.*?>\u001b[39m\u001b[38;5;124m'\u001b[39m)\n\u001b[1;32m      7\u001b[0m \u001b[38;5;66;03m# Remove HTML tags using the pattern\u001b[39;00m\n\u001b[0;32m----> 8\u001b[0m stripped_string \u001b[38;5;241m=\u001b[39m \u001b[43mre\u001b[49m\u001b[38;5;241;43m.\u001b[39;49m\u001b[43msub\u001b[49m\u001b[43m(\u001b[49m\u001b[43mpattern\u001b[49m\u001b[43m,\u001b[49m\u001b[43m \u001b[49m\u001b[38;5;124;43m'\u001b[39;49m\u001b[38;5;124;43m<space>\u001b[39;49m\u001b[38;5;124;43m'\u001b[39;49m\u001b[43m,\u001b[49m\u001b[43m \u001b[49m\u001b[43mhtml_string\u001b[49m\u001b[43m)\u001b[49m\n\u001b[1;32m     10\u001b[0m \u001b[38;5;28;01mreturn\u001b[39;00m stripped_string\n",
      "File \u001b[0;32m/usr/local/python/3.10.8/lib/python3.10/re.py:209\u001b[0m, in \u001b[0;36msub\u001b[0;34m(pattern, repl, string, count, flags)\u001b[0m\n\u001b[1;32m    202\u001b[0m \u001b[38;5;28;01mdef\u001b[39;00m \u001b[38;5;21msub\u001b[39m(pattern, repl, string, count\u001b[38;5;241m=\u001b[39m\u001b[38;5;241m0\u001b[39m, flags\u001b[38;5;241m=\u001b[39m\u001b[38;5;241m0\u001b[39m):\n\u001b[1;32m    203\u001b[0m \u001b[38;5;250m    \u001b[39m\u001b[38;5;124;03m\"\"\"Return the string obtained by replacing the leftmost\u001b[39;00m\n\u001b[1;32m    204\u001b[0m \u001b[38;5;124;03m    non-overlapping occurrences of the pattern in string by the\u001b[39;00m\n\u001b[1;32m    205\u001b[0m \u001b[38;5;124;03m    replacement repl.  repl can be either a string or a callable;\u001b[39;00m\n\u001b[1;32m    206\u001b[0m \u001b[38;5;124;03m    if a string, backslash escapes in it are processed.  If it is\u001b[39;00m\n\u001b[1;32m    207\u001b[0m \u001b[38;5;124;03m    a callable, it's passed the Match object and must return\u001b[39;00m\n\u001b[1;32m    208\u001b[0m \u001b[38;5;124;03m    a replacement string to be used.\"\"\"\u001b[39;00m\n\u001b[0;32m--> 209\u001b[0m     \u001b[38;5;28;01mreturn\u001b[39;00m \u001b[43m_compile\u001b[49m\u001b[43m(\u001b[49m\u001b[43mpattern\u001b[49m\u001b[43m,\u001b[49m\u001b[43m \u001b[49m\u001b[43mflags\u001b[49m\u001b[43m)\u001b[49m\u001b[38;5;241;43m.\u001b[39;49m\u001b[43msub\u001b[49m\u001b[43m(\u001b[49m\u001b[43mrepl\u001b[49m\u001b[43m,\u001b[49m\u001b[43m \u001b[49m\u001b[43mstring\u001b[49m\u001b[43m,\u001b[49m\u001b[43m \u001b[49m\u001b[43mcount\u001b[49m\u001b[43m)\u001b[49m\n",
      "\u001b[0;31mTypeError\u001b[0m: expected string or bytes-like object"
     ]
    }
   ],
   "source": [
    "vals = [strip_tags(i).split('<space>') for i in vals if i!='']"
   ]
  },
  {
   "cell_type": "code",
   "execution_count": 47,
   "id": "7fbe1b68-5034-4fb2-b104-a583683de2f7",
   "metadata": {},
   "outputs": [],
   "source": [
    "batch = vals[:100]"
   ]
  },
  {
   "cell_type": "code",
   "execution_count": 57,
   "id": "ba9f64be-c1a4-479e-a7a8-2520bb0ffaef",
   "metadata": {},
   "outputs": [
    {
     "data": {
      "text/plain": [
       "['Taylor', 'Swift']"
      ]
     },
     "execution_count": 57,
     "metadata": {},
     "output_type": "execute_result"
    }
   ],
   "source": [
    "batch[0][1:]"
   ]
  },
  {
   "cell_type": "code",
   "execution_count": 56,
   "id": "ef77d939-b622-4e1a-8195-4cfec83e833d",
   "metadata": {},
   "outputs": [
    {
     "ename": "AttributeError",
     "evalue": "'list' object has no attribute 'join'",
     "output_type": "error",
     "traceback": [
      "\u001b[0;31m---------------------------------------------------------------------------\u001b[0m",
      "\u001b[0;31mAttributeError\u001b[0m                            Traceback (most recent call last)",
      "Cell \u001b[0;32mIn[56], line 1\u001b[0m\n\u001b[0;32m----> 1\u001b[0m \u001b[43m[\u001b[49m\u001b[38;5;124;43m'\u001b[39;49m\u001b[38;5;124;43mHello\u001b[39;49m\u001b[38;5;124;43m'\u001b[39;49m\u001b[43m,\u001b[49m\u001b[38;5;124;43m'\u001b[39;49m\u001b[38;5;124;43mWorld\u001b[39;49m\u001b[38;5;124;43m'\u001b[39;49m\u001b[43m]\u001b[49m\u001b[38;5;241;43m.\u001b[39;49m\u001b[43mjoin\u001b[49m(\u001b[38;5;124m'\u001b[39m\u001b[38;5;124m \u001b[39m\u001b[38;5;124m'\u001b[39m)\n",
      "\u001b[0;31mAttributeError\u001b[0m: 'list' object has no attribute 'join'"
     ]
    }
   ],
   "source": [
    "['Hello','World'].join(' ')"
   ]
  },
  {
   "cell_type": "code",
   "execution_count": 58,
   "id": "50187ab4-1136-4607-8f85-286d941b25dc",
   "metadata": {},
   "outputs": [],
   "source": [
    "artist = [\" \".join(i[1:]) for i in vals]"
   ]
  },
  {
   "cell_type": "code",
   "execution_count": 61,
   "id": "d74c28bb-b036-4781-81dd-a87f4ac32329",
   "metadata": {},
   "outputs": [
    {
     "data": {
      "text/plain": [
       "'The Weeknd'"
      ]
     },
     "execution_count": 61,
     "metadata": {},
     "output_type": "execute_result"
    }
   ],
   "source": [
    "artist[2]"
   ]
  },
  {
   "cell_type": "code",
   "execution_count": null,
   "id": "0c34c3d3-33a0-4df6-8927-2eca767050e8",
   "metadata": {},
   "outputs": [],
   "source": [
    "' Carol Smith '"
   ]
  },
  {
   "cell_type": "code",
   "execution_count": 34,
   "id": "b84c131c-747d-4c12-9440-138b7969b827",
   "metadata": {},
   "outputs": [
    {
     "data": {
      "text/plain": [
       "['5', 'Bad', 'Bunny']"
      ]
     },
     "execution_count": 34,
     "metadata": {},
     "output_type": "execute_result"
    }
   ],
   "source": [
    "vals[4]"
   ]
  }
 ],
 "metadata": {
  "kernelspec": {
   "display_name": "Python 3 (ipykernel)",
   "language": "python",
   "name": "python3"
  },
  "language_info": {
   "codemirror_mode": {
    "name": "ipython",
    "version": 3
   },
   "file_extension": ".py",
   "mimetype": "text/x-python",
   "name": "python",
   "nbconvert_exporter": "python",
   "pygments_lexer": "ipython3",
   "version": "3.10.8"
  }
 },
 "nbformat": 4,
 "nbformat_minor": 5
}
