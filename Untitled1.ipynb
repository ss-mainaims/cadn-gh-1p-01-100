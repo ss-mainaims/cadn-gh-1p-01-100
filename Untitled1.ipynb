{
 "cells": [
  {
   "cell_type": "code",
   "execution_count": 2,
   "id": "88b9cd0d-acef-4fcd-968c-081478c8d4e4",
   "metadata": {},
   "outputs": [
    {
     "name": "stdout",
     "output_type": "stream",
     "text": [
      "Collecting pytube\n",
      "  Using cached pytube-15.0.0-py3-none-any.whl (57 kB)\n",
      "Installing collected packages: pytube\n",
      "Successfully installed pytube-15.0.0\n"
     ]
    }
   ],
   "source": [
    "!pip install pytube"
   ]
  },
  {
   "cell_type": "code",
   "execution_count": 1,
   "id": "d1cc7f44-3c28-4010-9629-8203d9287300",
   "metadata": {},
   "outputs": [],
   "source": [
    "import argparse\n",
    "from pytube import YouTube\n",
    "from pytube import Playlist\n"
   ]
  },
  {
   "cell_type": "code",
   "execution_count": 2,
   "id": "d2e40b52-1e69-4bfb-a1d8-2dddd587808a",
   "metadata": {},
   "outputs": [],
   "source": [
    "VIDEO_DOWNLOAD_DIR = \"./videos\"\n",
    "AUDIO_DOWNLOAD_DIR = \"./audio\""
   ]
  },
  {
   "cell_type": "code",
   "execution_count": 5,
   "id": "e5ede68f-935b-4b63-a867-29fbd062212b",
   "metadata": {},
   "outputs": [],
   "source": [
    "def YoutubeAudioDownload(video_url):\n",
    "    video = YouTube(video_url)\n",
    "    audio = video.streams.filter(only_audio = True).first()\n",
    "\n",
    "    try:\n",
    "        audio.download(AUDIO_DOWNLOAD_DIR)\n",
    "    except:\n",
    "        print(\"Failed to download audio\")\n",
    "\n",
    "    print(\"audio was downloaded successfully\")"
   ]
  },
  {
   "cell_type": "code",
   "execution_count": 4,
   "id": "ad4ceff9-12ff-4e4a-81a9-48eab26181bf",
   "metadata": {},
   "outputs": [],
   "source": [
    "from pytube import YouTube\n",
    "from pytube.exceptions import PytubeError\n",
    "import time\n",
    "\n",
    "def time_logger(func):\n",
    "    def wrapper(*args, **kwargs):\n",
    "        start_time = time.time()\n",
    "        result = func(*args, **kwargs)\n",
    "        end_time = time.time()\n",
    "        execution_time = end_time - start_time\n",
    "        print(f\"Function '{func.__name__}' took {execution_time:.4f} seconds to execute.\")\n",
    "        return result\n",
    "    return wrapper\n",
    "@time_logger\n",
    "def YoutubeAudioDownload(video_url):\n",
    "    try:\n",
    "        video = YouTube(video_url)\n",
    "        audio = video.streams.filter(only_audio=True).order_by('abr').desc().first()\n",
    "\n",
    "        # Download the audio\n",
    "        audio.download(AUDIO_DOWNLOAD_DIR,filename=\"songplanned.webm\")\n",
    "        print(audio.url)\n",
    "        print(video.title)\n",
    "        print(\"Audio was downloaded successfully\")\n",
    "    except PytubeError as e:\n",
    "        print(\"Failed to download audio:\", str(e))\n"
   ]
  },
  {
   "cell_type": "code",
   "execution_count": 5,
   "id": "e90f9f1f-8c68-4348-8440-bbc65a659256",
   "metadata": {},
   "outputs": [
    {
     "name": "stdout",
     "output_type": "stream",
     "text": [
      "https://rr2---sn-cvh7knze.googlevideo.com/videoplayback?expire=1692823700&ei=NBzmZOexCqKVvcAP2aWRmA8&ip=104.211.93.100&id=o-AKpXZWVjLARjj46x0w8d3g3xju63gDLv4MJZEwip25Mp&itag=251&source=youtube&requiressl=yes&mh=XV&mm=31%2C29&mn=sn-cvh7knze%2Csn-cvh76nes&ms=au%2Crdu&mv=m&mvi=2&pl=18&gcr=in&initcwndbps=1231250&vprv=1&mime=audio%2Fwebm&gir=yes&clen=3619098&dur=215.641&lmt=1630748534721357&mt=1692801692&fvip=4&keepalive=yes&fexp=24007246%2C24363393&beids=24350018&c=ANDROID_MUSIC&txp=5532434&sparams=expire%2Cei%2Cip%2Cid%2Citag%2Csource%2Crequiressl%2Cgcr%2Cvprv%2Cmime%2Cgir%2Cclen%2Cdur%2Clmt&sig=AOq0QJ8wRQIgAnfrkPfMyAoeXolYp-xOXPGa3CGdrYd3mUSFNbHOURoCIQCtksyrWI4g9uYt6w92nqS6roUdq-UF_KcEgo5tDedAgA%3D%3D&lsparams=mh%2Cmm%2Cmn%2Cms%2Cmv%2Cmvi%2Cpl%2Cinitcwndbps&lsig=AG3C_xAwRQIhAMd-x0AoxVSHM2YvD1fLUAP_NrYdsVHfN8qhQdwiaxc0AiAqNgJZEjrj_z8Sd2C8JhPoOawOkcPSsPpf39HxiKYKAA%3D%3D\n",
      "Save Your Tears\n",
      "Audio was downloaded successfully\n",
      "Function 'YoutubeAudioDownload' took 1.7110 seconds to execute.\n"
     ]
    }
   ],
   "source": [
    "YoutubeAudioDownload(\"https://music.youtube.com/watch?v=RmYCOm4ehKs&list=RDAMVMJ7p4bzqLvCw\")"
   ]
  },
  {
   "cell_type": "code",
   "execution_count": 45,
   "id": "4cd7578e-5344-49be-9ff3-645168ba7882",
   "metadata": {},
   "outputs": [
    {
     "data": {
      "text/plain": [
       "1.27015"
      ]
     },
     "execution_count": 45,
     "metadata": {},
     "output_type": "execute_result"
    }
   ],
   "source": [
    "(1.2245+1.3023+1.1639+1.3899)/4"
   ]
  },
  {
   "cell_type": "code",
   "execution_count": null,
   "id": "97ca32c8-cbc8-408d-8031-17223f3238ef",
   "metadata": {},
   "outputs": [],
   "source": [
    "import requests"
   ]
  },
  {
   "cell_type": "code",
   "execution_count": 9,
   "id": "0a16c775-016b-47c6-8bd3-6fd149b36298",
   "metadata": {},
   "outputs": [
    {
     "data": {
      "text/plain": [
       "['https://www.youtube.com/watch?v=K1FlAphL2p8', 'https://www.youtube.com/watch?v=oLeROuCMwj8', 'https://www.youtube.com/watch?v=w1Smzzw_w7Q', 'https://www.youtube.com/watch?v=zKFzKIa_pIM', 'https://www.youtube.com/watch?v=f2kSKlq44r4', 'https://www.youtube.com/watch?v=Z_Jp2mlzEjw', 'https://www.youtube.com/watch?v=-olL71GgdXQ', 'https://www.youtube.com/watch?v=lzXRdS9cynQ', 'https://www.youtube.com/watch?v=uumR0WQrJjw', 'https://www.youtube.com/watch?v=z3SOSN3zedc', 'https://www.youtube.com/watch?v=DBD_naiiXkQ', 'https://www.youtube.com/watch?v=ZJ0Szew2K1A', 'https://www.youtube.com/watch?v=F-C81j75Rmk', 'https://www.youtube.com/watch?v=LDg8UW51jCs', 'https://www.youtube.com/watch?v=YTPAHj4bPjA', 'https://www.youtube.com/watch?v=BRlMegyr6yc', 'https://www.youtube.com/watch?v=wS8otCVxpkw', 'https://www.youtube.com/watch?v=_t8HWppY4T0', 'https://www.youtube.com/watch?v=65_ellcYMe8', 'https://www.youtube.com/watch?v=wg-if-6FeVA', 'https://www.youtube.com/watch?v=rYuBU7YzZ-c', 'https://www.youtube.com/watch?v=an6iivcWZhE', 'https://www.youtube.com/watch?v=CLJmHNp1jJM', 'https://www.youtube.com/watch?v=YMQ5_Rkwiyw', 'https://www.youtube.com/watch?v=7DnFMAc446k', 'https://www.youtube.com/watch?v=BAlKoM0hHrE', 'https://www.youtube.com/watch?v=UozBuA18cvA', 'https://www.youtube.com/watch?v=4AkgN8ke4kY', 'https://www.youtube.com/watch?v=eY43Sy1wTc0', 'https://www.youtube.com/watch?v=naj8bG--5qs', 'https://www.youtube.com/watch?v=3QNmdRzX0fM', 'https://www.youtube.com/watch?v=Vp3WQ_iWh3c', 'https://www.youtube.com/watch?v=LtNQwLo8N-Y', 'https://www.youtube.com/watch?v=OLdviOHQeQs', 'https://www.youtube.com/watch?v=rJv6RI9SD_Q', 'https://www.youtube.com/watch?v=wXjbzT0javY', 'https://www.youtube.com/watch?v=YHoGXDYGkIw', 'https://www.youtube.com/watch?v=i0LKHoMYhj4', 'https://www.youtube.com/watch?v=v07GkdeqEi8', 'https://www.youtube.com/watch?v=VJHCIxZm3LU', 'https://www.youtube.com/watch?v=6P-43ukn_l0', 'https://www.youtube.com/watch?v=6yEp6eqi5GQ', 'https://www.youtube.com/watch?v=bB99HA7fSWc', 'https://www.youtube.com/watch?v=P9b1Qo5KYns', 'https://www.youtube.com/watch?v=UoNSBtZgtQ0', 'https://www.youtube.com/watch?v=WXrohj-i5uw', 'https://www.youtube.com/watch?v=yPdRtMEk4Ho', 'https://www.youtube.com/watch?v=dw_WtBTQrJQ', 'https://www.youtube.com/watch?v=Xetk-d_cDq4', 'https://www.youtube.com/watch?v=IpiaYAGjXhU', 'https://www.youtube.com/watch?v=AYMjrzBlalM', 'https://www.youtube.com/watch?v=cNcv81GP0E4', 'https://www.youtube.com/watch?v=GihiLHl5pxw', 'https://www.youtube.com/watch?v=EDsousvgM84', 'https://www.youtube.com/watch?v=NXEcli7b04Y', 'https://www.youtube.com/watch?v=ypMACz5ePNg', 'https://www.youtube.com/watch?v=4-Q_0iKNnVM', 'https://www.youtube.com/watch?v=6U8OAC6sN9I', 'https://www.youtube.com/watch?v=0PqpRnpE4yg', 'https://www.youtube.com/watch?v=C3aY6wcMJnw', 'https://www.youtube.com/watch?v=Zbx6yRzx_50', 'https://www.youtube.com/watch?v=TBkL09zz24w', 'https://www.youtube.com/watch?v=hfrXmKg5xKw', 'https://www.youtube.com/watch?v=M2wB0skdJ5o', 'https://www.youtube.com/watch?v=1hPHM6TuQSA', 'https://www.youtube.com/watch?v=OLKlFw2ab1M', 'https://www.youtube.com/watch?v=VE6eRwMFx8E', 'https://www.youtube.com/watch?v=GmaWJ-kaUrg', 'https://www.youtube.com/watch?v=pa7Iu6gt2Lw', 'https://www.youtube.com/watch?v=pdi6CJxseII', 'https://www.youtube.com/watch?v=0KIyt6mwmG8', 'https://www.youtube.com/watch?v=Q1RaAqJ0MCg', 'https://www.youtube.com/watch?v=dL9ny_Y68C4', 'https://www.youtube.com/watch?v=2F55lLRURkk', 'https://www.youtube.com/watch?v=k-uZTk3nHSw', 'https://www.youtube.com/watch?v=6-wYEEL2wSo', 'https://www.youtube.com/watch?v=TpHy5R0QpzA', 'https://www.youtube.com/watch?v=uISEhA_y_q0', 'https://www.youtube.com/watch?v=2R5BAWLP4xU', 'https://www.youtube.com/watch?v=VPJoTPS-fRE', 'https://www.youtube.com/watch?v=MIFzibiIg00', 'https://www.youtube.com/watch?v=zqj5_CceE6c', 'https://www.youtube.com/watch?v=lomOOvABIlQ', 'https://www.youtube.com/watch?v=sr7S-6elQAc', 'https://www.youtube.com/watch?v=vvcprNlLMzE', 'https://www.youtube.com/watch?v=eyJYq9lM0p0', 'https://www.youtube.com/watch?v=mPm8jaKD9v0', 'https://www.youtube.com/watch?v=CUigT4BBnaE', 'https://www.youtube.com/watch?v=UAXqHpGlCT4', 'https://www.youtube.com/watch?v=0khhGvduaJ4', 'https://www.youtube.com/watch?v=zdpp5Igmqv8', 'https://www.youtube.com/watch?v=AUG-fZ3kZCI', 'https://www.youtube.com/watch?v=QAjcRBPYlm0', 'https://www.youtube.com/watch?v=cHyTlSV2gWw']"
      ]
     },
     "execution_count": 9,
     "metadata": {},
     "output_type": "execute_result"
    }
   ],
   "source": [
    "\n",
    "playlist = Playlist(\"https://music.youtube.com/playlist?list=OLAK5uy_kF1C7dHBGJmptQqEqe3Ud52zNKb5S30JE\") #enter your playlist name\n",
    "playlist.video_urls"
   ]
  },
  {
   "cell_type": "code",
   "execution_count": 58,
   "id": "eeaca972-0bcb-4145-bfcb-e3935391bf86",
   "metadata": {},
   "outputs": [],
   "source": [
    "from pytube import Search\n",
    "s = Search(\"Travis Scott\")"
   ]
  },
  {
   "cell_type": "code",
   "execution_count": 60,
   "id": "2b853b49-245f-4917-974c-02e5a3ff9300",
   "metadata": {},
   "outputs": [
    {
     "name": "stdout",
     "output_type": "stream",
     "text": [
      "Travis Scott, Bad Bunny, The Weeknd - K-POP (Official Music Video)\n",
      "https://youtube.com/watch?v=_kS7F4VpJa0\n",
      "\n",
      "Travis Scott - I KNOW ? (Official Audio)\n",
      "https://youtube.com/watch?v=fmdLsdmYzTo\n",
      "\n",
      "Travis Scott - MELTDOWN (Official Audio) ft. Drake\n",
      "https://youtube.com/watch?v=LuKm4L9ryB0\n",
      "\n",
      "Travis Scott - CIRCUS MAXIMUS\n",
      "https://youtube.com/watch?v=-AmjlRjMKsY\n",
      "\n",
      "Travis Scott - FE!N (Official Audio) ft. Playboi Carti\n",
      "https://youtube.com/watch?v=U-l4ya3ejko\n",
      "\n",
      "Travis Scott - UTOPIA (Full Album Tracklist) [Official Album's Audio]\n",
      "https://youtube.com/watch?v=pwsl6HkXDm4\n",
      "\n",
      "Travis Scott - BUTTERFLY EFFECT\n",
      "https://youtube.com/watch?v=_EyZUTDAH0U\n",
      "\n",
      "Travis Scott - ESCAPE PLAN (Official Music Video)\n",
      "https://youtube.com/watch?v=KPz33BLkvho\n",
      "\n",
      "Travis Scott - SICKO MODE ft. Drake\n",
      "https://youtube.com/watch?v=6ONRf7h3Mdk\n",
      "\n",
      "Travis Scott - HYAENA (Official Audio)\n",
      "https://youtube.com/watch?v=N20q-391r48\n",
      "\n",
      "Travis Scott - THANK GOD (Official Audio)\n",
      "https://youtube.com/watch?v=UVtTc4zqbxQ\n",
      "\n",
      "Travis Scott - MY EYES (Official Audio)\n",
      "https://youtube.com/watch?v=pildU9lK6vM\n",
      "\n",
      "Travis Scott - GOD'S COUNTRY (Official Music Video)\n",
      "https://youtube.com/watch?v=E9VVEdw5Dng\n",
      "\n",
      "Travis Scott - SICKO MODE (Audio)\n",
      "https://youtube.com/watch?v=d-JBBNg8YKs\n",
      "\n",
      "Travis Scott - goosebumps ft. Kendrick Lamar\n",
      "https://youtube.com/watch?v=Dst9gZkq1a8\n",
      "\n",
      "Travis Scott - Antidote\n",
      "https://youtube.com/watch?v=KnZ8h3MRuYg\n",
      "\n",
      "Travis Scott - HIGHEST IN THE ROOM (Official Music Video)\n",
      "https://youtube.com/watch?v=tfSS1e3kYeo\n",
      "\n",
      "Travis Scott - CAN'T SAY\n",
      "https://youtube.com/watch?v=2LegcNVM_nM\n",
      "\n",
      "Travis Scott Utopia Live at Circus Maximus Rome First time Ever(Full Set)\n",
      "https://youtube.com/watch?v=t_PsABsmkdk\n",
      "\n",
      "_js\n",
      "_js_url\n",
      "_vid_info\n",
      "_watch_html\n",
      "_embed_html\n",
      "_player_config_args\n",
      "_age_restricted\n",
      "_fmt_streams\n",
      "_initial_data\n",
      "_metadata\n",
      "video_id\n",
      "watch_url\n",
      "embed_url\n",
      "stream_monostate\n",
      "_author\n",
      "_title\n",
      "_publish_date\n",
      "use_oauth\n",
      "allow_oauth_cache\n"
     ]
    }
   ],
   "source": [
    "for v in s.results:\n",
    "  print(f\"{v.title}\\n{v.watch_url}\\n\")\n",
    "\n",
    "# get object keys\n",
    "keys = \"\\n\".join([k for k in s.results[0].__dict__])\n",
    "print(keys)"
   ]
  },
  {
   "cell_type": "code",
   "execution_count": 61,
   "id": "7777e0c9-1f1f-47de-9d1d-87aeeb706bb8",
   "metadata": {},
   "outputs": [],
   "source": [
    "def get_channel_name(video_url):\n",
    "    video = YouTube(video_url)\n",
    "    channel_name = video.author\n",
    "    return channel_name\n"
   ]
  },
  {
   "cell_type": "code",
   "execution_count": 62,
   "id": "e539c3bf-a55c-4f85-b193-e92ce89c3817",
   "metadata": {},
   "outputs": [
    {
     "data": {
      "text/plain": [
       "'The Weeknd'"
      ]
     },
     "execution_count": 62,
     "metadata": {},
     "output_type": "execute_result"
    }
   ],
   "source": [
    "get_channel_name('https://music.youtube.com/watch?v=RmYCOm4ehKs&list=RDAMVMJ7p4bzqLvCw')"
   ]
  },
  {
   "cell_type": "code",
   "execution_count": 1,
   "id": "bf61bd29-e214-402a-81a3-953661e353bf",
   "metadata": {},
   "outputs": [],
   "source": [
    "dicty  ={} \n"
   ]
  },
  {
   "cell_type": "code",
   "execution_count": 8,
   "id": "659fd40d-f8bc-4798-96e8-d33eb3d199fa",
   "metadata": {},
   "outputs": [],
   "source": [
    "dicty['hi'] = [1]"
   ]
  },
  {
   "cell_type": "code",
   "execution_count": 9,
   "id": "28fff4a3-3fa7-48ee-8c1e-3db8c5cbb47c",
   "metadata": {},
   "outputs": [
    {
     "data": {
      "text/plain": [
       "True"
      ]
     },
     "execution_count": 9,
     "metadata": {},
     "output_type": "execute_result"
    }
   ],
   "source": [
    "if len(dicty['hi']) > 0:\n",
    "    else:\n",
    "    pass"
   ]
  }
 ],
 "metadata": {
  "kernelspec": {
   "display_name": "Python 3 (ipykernel)",
   "language": "python",
   "name": "python3"
  },
  "language_info": {
   "codemirror_mode": {
    "name": "ipython",
    "version": 3
   },
   "file_extension": ".py",
   "mimetype": "text/x-python",
   "name": "python",
   "nbconvert_exporter": "python",
   "pygments_lexer": "ipython3",
   "version": "3.10.8"
  }
 },
 "nbformat": 4,
 "nbformat_minor": 5
}
