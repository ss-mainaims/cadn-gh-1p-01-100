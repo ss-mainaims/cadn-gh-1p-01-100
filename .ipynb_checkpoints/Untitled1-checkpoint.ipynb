{
 "cells": [
  {
   "cell_type": "code",
   "execution_count": 2,
   "id": "7f34910f-c372-425b-9ab2-0596f108f2c8",
   "metadata": {},
   "outputs": [],
   "source": [
    "import requests\n",
    "import json \n",
    "import time \n",
    "import re"
   ]
  },
  {
   "cell_type": "code",
   "execution_count": 4,
   "id": "31d8749c-9f76-4359-af1f-72093353d943",
   "metadata": {},
   "outputs": [
    {
     "data": {
      "text/plain": [
       "'<!DOCTYPE html><html lang=\"en\" dir=\"ltr\"><head><title>Your browser is deprecated. Please upgrade.</title><meta name=\"viewport\" content=\"width=device-width, initial-scale=1.0, maximum-scale=1.0, user-scalable=no\"/><link href=\"https://fonts.googleapis.com/css?family=Roboto:500\" rel=\"stylesheet\" nonce=\"allQ6TaVV4BCmkvqUtIdww\"/><link rel=\"icon\" href=\"https://music.youtube.com/favicon.ico\" sizes=\"16x16\" type=\"image/x-icon\"><link rel=\"icon\" href=\"https://music.youtube.com/img/favicon_32.png\" sizes=\"32x32\" type=\"image/png\"><link rel=\"icon\" href=\"https://music.youtube.com/img/favicon_48.png\" sizes=\"48x48\" type=\"image/png\"><link rel=\"icon\" href=\"https://music.youtube.com/img/favicon_96.png\" sizes=\"96x96\" type=\"image/png\"><link rel=\"icon\" href=\"https://music.youtube.com/img/favicon_144.png\" sizes=\"144x144\" type=\"image/png\"><title>Songs</title><link rel=\"canonical\" href=\"https://music.youtube.com/playlist?list=OLAK5uy_kF1C7dHBGJmptQqEqe3Ud52zNKb5S30JE\"><meta property=\"og:site_name\" content=\"YouTube Music\"><meta property=\"og:url\" content=\"https://music.youtube.com/playlist?list=OLAK5uy_kF1C7dHBGJmptQqEqe3Ud52zNKb5S30JE\"><meta property=\"og:title\" content=\"Songs\"><meta property=\"og:description\" content=\"\"><meta property=\"og:image\" content=\"https://lh3.googleusercontent.com/a36isbIbmOGd6VYH6j61aatMj94BUftO-xeBfeUAv0yUNGZME6Arcfk10cjJTq6D5UFgRWZl9MX8aax9=w544-h544-l90-rj\"><meta property=\"og:image:width\" content=\"544\"><meta property=\"og:image:height\" content=\"544\"><meta name=\"apple-itunes-app\" content=\"app-id=1017492454\" app-argument=\"https://music.youtube.com/playlist?list=OLAK5uy_kF1C7dHBGJmptQqEqe3Ud52zNKb5S30JE\"><meta property=\"al:ios:app_store_id\" content=\"1017492454\"><meta property=\"al:ios:app_name\" content=\"YouTube Music\"><meta property=\"al:ios:url\" content=\"vnd.youtube.music://music.youtube.com/playlist?list=OLAK5uy_kF1C7dHBGJmptQqEqe3Ud52zNKb5S30JE&amp;feature=applinks\"><meta property=\"al:android:url\" content=\"vnd.youtube.music://music.youtube.com/playlist?list=OLAK5uy_kF1C7dHBGJmptQqEqe3Ud52zNKb5S30JE&amp;feature=applinks\"><meta property=\"al:android:app_name\" content=\"YouTube Music\"><meta property=\"al:android:package\" content=\"com.google.android.apps.youtube.music\"><meta property=\"al:web:url\" content=\"https://music.youtube.com/playlist?list=OLAK5uy_kF1C7dHBGJmptQqEqe3Ud52zNKb5S30JE&amp;feature=applinks\"><meta property=\"al:web:should_fallback\" content=\"true\"><meta property=\"og:type\" content=\"music.playlist\"><meta property=\"fb:app_id\" content=\"87741124305\"><meta property=\"og:restrictions:age\" content=\"18+\"><meta name=\"twitter:card\" content=\"summary_large_image\"><meta name=\"twitter:site\" content=\"@youtubemusic\"><meta name=\"twitter:url\" content=\"https://music.youtube.com/playlist?list=OLAK5uy_kF1C7dHBGJmptQqEqe3Ud52zNKb5S30JE\"><meta name=\"twitter:title\" content=\"Songs\"><meta name=\"twitter:description\" content=\"\"><meta name=\"twitter:image\" content=\"https://lh3.googleusercontent.com/a36isbIbmOGd6VYH6j61aatMj94BUftO-xeBfeUAv0yUNGZME6Arcfk10cjJTq6D5UFgRWZl9MX8aax9=w544-h544-l90-rj\"><meta name=\"twitter:app:name:iphone\" content=\"YouTube Music\"><meta name=\"twitter:app:id:iphone\" content=\"1017492454\"><meta name=\"twitter:app:url:iphone\" content=\"vnd.youtube.music://music.youtube.com/playlist?list=OLAK5uy_kF1C7dHBGJmptQqEqe3Ud52zNKb5S30JE&amp;feature=twitter-deep-link\"><meta name=\"twitter:app:name:ipad\" content=\"YouTube Music\"><meta name=\"twitter:app:id:ipad\" content=\"1017492454\"><meta name=\"twitter:app:url:ipad\" content=\"vnd.youtube.music://music.youtube.com/playlist?list=OLAK5uy_kF1C7dHBGJmptQqEqe3Ud52zNKb5S30JE&amp;feature=twitter-deep-link\"><meta name=\"twitter:app:name:googleplay\" content=\"YouTube Music\"><meta name=\"twitter:app:id:googleplay\" content=\"com.google.android.apps.youtube.music\"><meta name=\"twitter:app:url:googleplay\" content=\"vnd.youtube.music://music.youtube.com/playlist?list=OLAK5uy_kF1C7dHBGJmptQqEqe3Ud52zNKb5S30JE&amp;feature=twitter-deep-link\"><meta name=\"title\" content=\"Songs\"><meta name=\"description\" content=\"A new music service with official albums, singles, videos, remixes, live performances and more for Android, iOS and desktop. It&#39;s all here.\"><meta name=\"keywords\" content=\"music,youtube,youtube music,music streaming\"><style nonce=\"allQ6TaVV4BCmkvqUtIdww\">body {display: flex; height: 100vh; width: 100vw; align-items: center; justify-content: center; margin: 0; background-color: #131313; overflow: hidden; font-family: \\'Roboto\\', arial, sans-serif}.content {display: flex; flex-direction: column; align-items: center;}.logo {width: 160px;}.message {max-width: 400px; box-sizing: border-box; padding: 32px 24px; font-size: 18px; line-height: 22px; font-weight: 500; text-align: center; color: rgba(255, 255, 255, 0.8);}.cta-wrapper {display: flex; justify-content: center;}.cta {display: flex; align-items: center; justify-content: center; background-color: #fff; font-size: 14px; font-weight: 500; text-decoration: none; text-transform: uppercase; color: #131313; height: 36px; min-width: 88px; border-radius: 2px; padding: 0 24px;}</style></head><body><div class=\"content\"><img class=\"logo\" src=\"//music.youtube.com/img/on_platform_logo_dark.svg\" alt=\"\"><div class=\"message\">Sorry, YouTube Music is not optimized for your browser. Check for updates or try Google Chrome.</div><div class=\"cta-wrapper\"><a class=\"cta\" href=\"http://www.google.com/chrome/index.html\">Get Chrome</a></div></div></body></html>'"
      ]
     },
     "execution_count": 4,
     "metadata": {},
     "output_type": "execute_result"
    }
   ],
   "source": [
    "url =\"\"\n",
    "requests.get(url).text"
   ]
  },
  {
   "cell_type": "code",
   "execution_count": null,
   "id": "4117cb3b-b0e7-405f-9945-41b192242230",
   "metadata": {},
   "outputs": [],
   "source": []
  }
 ],
 "metadata": {
  "kernelspec": {
   "display_name": "Python 3 (ipykernel)",
   "language": "python",
   "name": "python3"
  },
  "language_info": {
   "codemirror_mode": {
    "name": "ipython",
    "version": 3
   },
   "file_extension": ".py",
   "mimetype": "text/x-python",
   "name": "python",
   "nbconvert_exporter": "python",
   "pygments_lexer": "ipython3",
   "version": "3.11.1"
  }
 },
 "nbformat": 4,
 "nbformat_minor": 5
}
