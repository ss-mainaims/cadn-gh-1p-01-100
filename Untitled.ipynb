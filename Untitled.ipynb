{
 "cells": [
  {
   "cell_type": "code",
   "execution_count": 3,
   "id": "7d313d52-b0d8-4608-abe6-546e861ca162",
   "metadata": {},
   "outputs": [
    {
     "name": "stdout",
     "output_type": "stream",
     "text": [
      "--2023-08-23 14:47:24--  https://5500-gitdomain-gibae-sgcxt8am9oe.ws-us104.gitpod.io/Untitled.ipynb\n",
      "Resolving 5500-gitdomain-gibae-sgcxt8am9oe.ws-us104.gitpod.io (5500-gitdomain-gibae-sgcxt8am9oe.ws-us104.gitpod.io)... 34.82.179.113\n",
      "Connecting to 5500-gitdomain-gibae-sgcxt8am9oe.ws-us104.gitpod.io (5500-gitdomain-gibae-sgcxt8am9oe.ws-us104.gitpod.io)|34.82.179.113|:443... connected.\n",
      "HTTP request sent, awaiting response... 200 OK\n",
      "Length: 14998 (15K) [application/octet-stream]\n",
      "Saving to: ‘Untitled1.ipynb’\n",
      "\n",
      "Untitled1.ipynb     100%[===================>]  14.65K  --.-KB/s    in 0.04s   \n",
      "\n",
      "2023-08-23 14:47:24 (341 KB/s) - ‘Untitled1.ipynb’ saved [14998/14998]\n",
      "\n"
     ]
    }
   ],
   "source": [
    "!wget -O Untitled1.ipynb https://5500-gitdomain-gibae-sgcxt8am9oe.ws-us104.gitpod.io/Untitled.ipynb"
   ]
  },
  {
   "cell_type": "code",
   "execution_count": 34,
   "id": "096e6941-bcc1-4208-8dd9-b609da854441",
   "metadata": {},
   "outputs": [],
   "source": [
    "import random\n",
    "import string\n",
    "\n",
    "def generate_alphanumeric_value(digit:int)->str:\n",
    "    alphanumeric_chars = string.ascii_letters + string.digits\n",
    "    value = ''.join(random.choice(alphanumeric_chars) for _ in range(digit))\n",
    "    return value\n"
   ]
  },
  {
   "cell_type": "code",
   "execution_count": 44,
   "id": "563f5639-52a3-4bb5-9025-6eb0eca911e3",
   "metadata": {},
   "outputs": [],
   "source": [
    "import random\n",
    "import string\n",
    "\n",
    "def generate_base_regional(digit:int)->str:\n",
    "    alphanumeric_chars = string.ascii_letters + string.digits\n",
    "    value = ''.join(random.choice(alphanumeric_chars) for _ in range(digit))\n",
    "    return value"
   ]
  },
  {
   "cell_type": "code",
   "execution_count": 49,
   "id": "4fa350f5-5611-485b-b1d3-2d0a9d318133",
   "metadata": {},
   "outputs": [
    {
     "data": {
      "text/plain": [
       "'BXICtk'"
      ]
     },
     "execution_count": 49,
     "metadata": {},
     "output_type": "execute_result"
    }
   ],
   "source": [
    "generate_base_regional(6)"
   ]
  },
  {
   "cell_type": "code",
   "execution_count": 48,
   "id": "919c2a70-959e-4e69-b5f6-0f1a80099932",
   "metadata": {},
   "outputs": [
    {
     "data": {
      "text/plain": [
       "'IdvwoECBkbQlcLt87TcgwhT4s37b'"
      ]
     },
     "execution_count": 48,
     "metadata": {},
     "output_type": "execute_result"
    }
   ],
   "source": [
    "generate_alphanumeric_value(28)"
   ]
  },
  {
   "cell_type": "code",
   "execution_count": 50,
   "id": "e9ea70fc-bcf1-4b0c-8d2c-7832a4d4a9b4",
   "metadata": {},
   "outputs": [],
   "source": [
    "text = \"\"\"<ng-dropdown-panel role=\"listbox\" aria-label=\"Options list\" class=\"ng-dropdown-panel ng-star-inserted ng-select-bottom\" id=\"aa142e612e72\" style=\"opacity: 1;\"><!----><div class=\"ng-dropdown-panel-items scroll-host\"><div></div><div><div class=\"ng-option ng-option-selected ng-star-inserted\" role=\"option\" aria-selected=\"true\" id=\"aa142e612e72-0\"><!----><span class=\"ng-option-label ng-star-inserted\"><span _ngcontent-erw-c120=\"\" class=\"e2c-custom-option e2c-app-offline\">Oregon <!----></span></span><!----></div><div class=\"ng-option ng-star-inserted ng-option-marked\" role=\"option\" aria-selected=\"false\" id=\"aa142e612e72-1\"><!----><span class=\"ng-option-label ng-star-inserted\"><span _ngcontent-erw-c120=\"\" class=\"e2c-custom-option e2c-app-offline\">Los Angeles <!----></span></span><!----></div><div class=\"ng-option ng-star-inserted\" role=\"option\" aria-selected=\"false\" id=\"aa142e612e72-2\"><!----><span class=\"ng-option-label ng-star-inserted\"><span _ngcontent-erw-c120=\"\" class=\"e2c-custom-option e2c-app-offline\">Virginia <!----></span></span><!----></div><div class=\"ng-option ng-star-inserted\" role=\"option\" aria-selected=\"false\" id=\"aa142e612e72-3\"><!----><span class=\"ng-option-label ng-star-inserted\"><span _ngcontent-erw-c120=\"\" class=\"e2c-custom-option e2c-app-offline\">Chicago <!----></span></span><!----></div><div class=\"ng-option ng-star-inserted\" role=\"option\" aria-selected=\"false\" id=\"aa142e612e72-4\"><!----><span class=\"ng-option-label ng-star-inserted\"><span _ngcontent-erw-c120=\"\" class=\"e2c-custom-option e2c-app-offline\">Miami <!----></span></span><!----></div><div class=\"ng-option ng-star-inserted\" role=\"option\" aria-selected=\"false\" id=\"aa142e612e72-5\"><!----><span class=\"ng-option-label ng-star-inserted\"><span _ngcontent-erw-c120=\"\" class=\"e2c-custom-option e2c-app-offline\">Dallas <!----></span></span><!----></div><div class=\"ng-option ng-star-inserted\" role=\"option\" aria-selected=\"false\" id=\"aa142e612e72-6\"><!----><span class=\"ng-option-label ng-star-inserted\"><span _ngcontent-erw-c120=\"\" class=\"e2c-custom-option e2c-app-offline\">San Jose <!----></span></span><!----></div><div class=\"ng-option ng-star-inserted\" role=\"option\" aria-selected=\"false\" id=\"aa142e612e72-7\"><!----><span class=\"ng-option-label ng-star-inserted\"><span _ngcontent-erw-c120=\"\" class=\"e2c-custom-option e2c-app-offline\">Phoenix <!----></span></span><!----></div><div class=\"ng-option ng-star-inserted\" role=\"option\" aria-selected=\"false\" id=\"aa142e612e72-8\"><!----><span class=\"ng-option-label ng-star-inserted\"><span _ngcontent-erw-c120=\"\" class=\"e2c-custom-option e2c-ireland e2c-app-offline\">Ireland <!----></span></span><!----></div><div class=\"ng-option ng-star-inserted\" role=\"option\" aria-selected=\"false\" id=\"aa142e612e72-9\"><!----><span class=\"ng-option-label ng-star-inserted\"><span _ngcontent-erw-c120=\"\" class=\"e2c-custom-option e2c-uk e2c-app-offline\">London <!----></span></span><!----></div><div class=\"ng-option ng-star-inserted\" role=\"option\" aria-selected=\"false\" id=\"aa142e612e72-10\"><!----><span class=\"ng-option-label ng-star-inserted\"><span _ngcontent-erw-c120=\"\" class=\"e2c-custom-option e2c-france e2c-app-offline\">Paris <!----></span></span><!----></div><div class=\"ng-option ng-star-inserted\" role=\"option\" aria-selected=\"false\" id=\"aa142e612e72-11\"><!----><span class=\"ng-option-label ng-star-inserted\"><span _ngcontent-erw-c120=\"\" class=\"e2c-custom-option e2c-germany e2c-app-offline\">Frankfurt <!----></span></span><!----></div><div class=\"ng-option ng-star-inserted\" role=\"option\" aria-selected=\"false\" id=\"aa142e612e72-12\"><!----><span class=\"ng-option-label ng-star-inserted\"><span _ngcontent-erw-c120=\"\" class=\"e2c-custom-option e2c-canada e2c-app-offline\">Montreal (Canada) <!----></span></span><!----></div><!----><!----><!----><!----><!----><!----></div></div><!----></ng-dropdown-panel>\"\"\""
   ]
  },
  {
   "cell_type": "code",
   "execution_count": 51,
   "id": "8a661168-4b3d-4081-98e9-95e16d046e62",
   "metadata": {},
   "outputs": [
    {
     "data": {
      "text/plain": [
       "'<ng-dropdown-panel role=\"listbox\" aria-label=\"Options list\" class=\"ng-dropdown-panel ng-star-inserted ng-select-bottom\" id=\"aa142e612e72\" style=\"opacity: 1;\"><!----><div class=\"ng-dropdown-panel-items scroll-host\"><div></div><div><div class=\"ng-option ng-option-selected ng-star-inserted\" role=\"option\" aria-selected=\"true\" id=\"aa142e612e72-0\"><!----><span class=\"ng-option-label ng-star-inserted\"><span _ngcontent-erw-c120=\"\" class=\"e2c-custom-option e2c-app-offline\">Oregon <!----></span></span><!----></div><div class=\"ng-option ng-star-inserted ng-option-marked\" role=\"option\" aria-selected=\"false\" id=\"aa142e612e72-1\"><!----><span class=\"ng-option-label ng-star-inserted\"><span _ngcontent-erw-c120=\"\" class=\"e2c-custom-option e2c-app-offline\">Los Angeles <!----></span></span><!----></div><div class=\"ng-option ng-star-inserted\" role=\"option\" aria-selected=\"false\" id=\"aa142e612e72-2\"><!----><span class=\"ng-option-label ng-star-inserted\"><span _ngcontent-erw-c120=\"\" class=\"e2c-custom-option e2c-app-offline\">Virginia <!----></span></span><!----></div><div class=\"ng-option ng-star-inserted\" role=\"option\" aria-selected=\"false\" id=\"aa142e612e72-3\"><!----><span class=\"ng-option-label ng-star-inserted\"><span _ngcontent-erw-c120=\"\" class=\"e2c-custom-option e2c-app-offline\">Chicago <!----></span></span><!----></div><div class=\"ng-option ng-star-inserted\" role=\"option\" aria-selected=\"false\" id=\"aa142e612e72-4\"><!----><span class=\"ng-option-label ng-star-inserted\"><span _ngcontent-erw-c120=\"\" class=\"e2c-custom-option e2c-app-offline\">Miami <!----></span></span><!----></div><div class=\"ng-option ng-star-inserted\" role=\"option\" aria-selected=\"false\" id=\"aa142e612e72-5\"><!----><span class=\"ng-option-label ng-star-inserted\"><span _ngcontent-erw-c120=\"\" class=\"e2c-custom-option e2c-app-offline\">Dallas <!----></span></span><!----></div><div class=\"ng-option ng-star-inserted\" role=\"option\" aria-selected=\"false\" id=\"aa142e612e72-6\"><!----><span class=\"ng-option-label ng-star-inserted\"><span _ngcontent-erw-c120=\"\" class=\"e2c-custom-option e2c-app-offline\">San Jose <!----></span></span><!----></div><div class=\"ng-option ng-star-inserted\" role=\"option\" aria-selected=\"false\" id=\"aa142e612e72-7\"><!----><span class=\"ng-option-label ng-star-inserted\"><span _ngcontent-erw-c120=\"\" class=\"e2c-custom-option e2c-app-offline\">Phoenix <!----></span></span><!----></div><div class=\"ng-option ng-star-inserted\" role=\"option\" aria-selected=\"false\" id=\"aa142e612e72-8\"><!----><span class=\"ng-option-label ng-star-inserted\"><span _ngcontent-erw-c120=\"\" class=\"e2c-custom-option e2c-ireland e2c-app-offline\">Ireland <!----></span></span><!----></div><div class=\"ng-option ng-star-inserted\" role=\"option\" aria-selected=\"false\" id=\"aa142e612e72-9\"><!----><span class=\"ng-option-label ng-star-inserted\"><span _ngcontent-erw-c120=\"\" class=\"e2c-custom-option e2c-uk e2c-app-offline\">London <!----></span></span><!----></div><div class=\"ng-option ng-star-inserted\" role=\"option\" aria-selected=\"false\" id=\"aa142e612e72-10\"><!----><span class=\"ng-option-label ng-star-inserted\"><span _ngcontent-erw-c120=\"\" class=\"e2c-custom-option e2c-france e2c-app-offline\">Paris <!----></span></span><!----></div><div class=\"ng-option ng-star-inserted\" role=\"option\" aria-selected=\"false\" id=\"aa142e612e72-11\"><!----><span class=\"ng-option-label ng-star-inserted\"><span _ngcontent-erw-c120=\"\" class=\"e2c-custom-option e2c-germany e2c-app-offline\">Frankfurt <!----></span></span><!----></div><div class=\"ng-option ng-star-inserted\" role=\"option\" aria-selected=\"false\" id=\"aa142e612e72-12\"><!----><span class=\"ng-option-label ng-star-inserted\"><span _ngcontent-erw-c120=\"\" class=\"e2c-custom-option e2c-canada e2c-app-offline\">Montreal (Canada) <!----></span></span><!----></div><!----><!----><!----><!----><!----><!----></div></div><!----></ng-dropdown-panel>'"
      ]
     },
     "execution_count": 51,
     "metadata": {},
     "output_type": "execute_result"
    }
   ],
   "source": [
    "text"
   ]
  },
  {
   "cell_type": "code",
   "execution_count": 65,
   "id": "c3c71ec7-b09a-44b5-b390-029496c0174e",
   "metadata": {},
   "outputs": [],
   "source": [
    "vals = [] \n",
    "i=0\n",
    "base=\"aa142e612e72-\"\n",
    "while True:\n",
    "    value = get_element_value_by_id(base+str(i),text)\n",
    "    vals.append(strip_tags(str(value)))\n",
    "    if value == None:\n",
    "        break\n",
    "    i+=1 \n",
    "    "
   ]
  },
  {
   "cell_type": "code",
   "execution_count": 66,
   "id": "d5cfe96d-65c1-4667-a43c-5f6b8f1e002b",
   "metadata": {},
   "outputs": [
    {
     "data": {
      "text/plain": [
       "['Oregon ',\n",
       " 'Los Angeles ',\n",
       " 'Virginia ',\n",
       " 'Chicago ',\n",
       " 'Miami ',\n",
       " 'Dallas ',\n",
       " 'San Jose ',\n",
       " 'Phoenix ',\n",
       " 'Ireland ',\n",
       " 'London ',\n",
       " 'Paris ',\n",
       " 'Frankfurt ',\n",
       " 'Montreal (Canada) ',\n",
       " 'None']"
      ]
     },
     "execution_count": 66,
     "metadata": {},
     "output_type": "execute_result"
    }
   ],
   "source": [
    "vals"
   ]
  },
  {
   "cell_type": "code",
   "execution_count": 67,
   "id": "34361d45-57f3-4486-ae8d-4b96ee9ecaf3",
   "metadata": {},
   "outputs": [],
   "source": [
    "vals = ['Oregon ',\n",
    " 'Los Angeles ',\n",
    " 'Virginia ',\n",
    " 'Chicago ',\n",
    " 'Miami ',\n",
    " 'Dallas ',\n",
    " 'San Jose ',\n",
    " 'Phoenix ',\n",
    " 'Ireland ',\n",
    " 'London ',\n",
    " 'Paris ',\n",
    " 'Frankfurt ',\n",
    " 'Montreal (Canada) ',\n",
    " 'Singapore ']"
   ]
  },
  {
   "cell_type": "code",
   "execution_count": 54,
   "id": "2a9a3935-4993-4a9f-8fed-ac98a1295e92",
   "metadata": {},
   "outputs": [],
   "source": [
    "import re\n",
    "\n",
    "def strip_tags(html_string):\n",
    "    # Regular expression pattern to match HTML tags\n",
    "    pattern = re.compile(r'<.*?>')\n",
    "    \n",
    "    # Remove HTML tags using the pattern\n",
    "    stripped_string = re.sub(pattern, '', html_string)\n",
    "    \n",
    "    return stripped_string\n"
   ]
  },
  {
   "cell_type": "code",
   "execution_count": 69,
   "id": "70bb38e1-021e-49ed-af97-c8416b4bdd04",
   "metadata": {},
   "outputs": [
    {
     "data": {
      "text/plain": [
       "{'idrv_loc': {'Oregon': 'tZfWmx',\n",
       "  'Los_Angeles': '3lvO8N',\n",
       "  'Virginia': 'hVWWMo',\n",
       "  'Chicago': 'buJ9kP',\n",
       "  'Miami': '2KSnOd',\n",
       "  'Dallas': 'xJLIim',\n",
       "  'San_Jose': 'Ds16q8',\n",
       "  'Phoenix': 'Jx4KZu',\n",
       "  'Ireland': 'F8ZJrB',\n",
       "  'London': 'oJgMmY',\n",
       "  'Paris': '3xLg8e',\n",
       "  'Frankfurt': 'ZOxCDx',\n",
       "  'Montreal_(Canada)': 'VRQH0n',\n",
       "  'Singapore': 'Sdp6lC'}}"
      ]
     },
     "execution_count": 69,
     "metadata": {},
     "output_type": "execute_result"
    }
   ],
   "source": [
    "nval"
   ]
  },
  {
   "cell_type": "code",
   "execution_count": null,
   "id": "f0b12d85-aeaa-4aed-9c03-c96b787bc9bf",
   "metadata": {},
   "outputs": [],
   "source": []
  },
  {
   "cell_type": "code",
   "execution_count": 56,
   "id": "569901fb-b516-4017-993e-39a9be78225d",
   "metadata": {},
   "outputs": [
    {
     "name": "stdout",
     "output_type": "stream",
     "text": [
      "<span>Hello, World! \n"
     ]
    }
   ],
   "source": [
    "html_content = '<div id=\"aa142e612e72-1\"><span>Hello, World! </span><!---></div>'\n",
    "element_value = get_element_value_by_id(\"aa142e612e72-1\", html_content)\n",
    "print(element_value)  # Output: Hello, World!\n"
   ]
  },
  {
   "cell_type": "code",
   "execution_count": 58,
   "id": "a585449c-dee7-411b-92b9-73fd2461374f",
   "metadata": {},
   "outputs": [
    {
     "data": {
      "text/plain": [
       "'Hello, World!'"
      ]
     },
     "execution_count": 58,
     "metadata": {},
     "output_type": "execute_result"
    }
   ],
   "source": [
    "strip_tags('<span>Hello, World!<!--->')"
   ]
  }
 ],
 "metadata": {
  "kernelspec": {
   "display_name": "Python 3 (ipykernel)",
   "language": "python",
   "name": "python3"
  },
  "language_info": {
   "codemirror_mode": {
    "name": "ipython",
    "version": 3
   },
   "file_extension": ".py",
   "mimetype": "text/x-python",
   "name": "python",
   "nbconvert_exporter": "python",
   "pygments_lexer": "ipython3",
   "version": "3.10.8"
  }
 },
 "nbformat": 4,
 "nbformat_minor": 5
}
